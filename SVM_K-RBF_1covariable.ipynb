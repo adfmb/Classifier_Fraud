{
 "cells": [
  {
   "cell_type": "markdown",
   "metadata": {
    "collapsed": true
   },
   "source": [
    "##Máquina de soporte vectorial para clasificación"
   ]
  },
  {
   "cell_type": "markdown",
   "metadata": {},
   "source": [
    "###Kernel RBF y usando una covariable"
   ]
  },
  {
   "cell_type": "markdown",
   "metadata": {},
   "source": [
    "####10% de datos de entrenamiento"
   ]
  },
  {
   "cell_type": "code",
   "execution_count": 3,
   "metadata": {
    "collapsed": true
   },
   "outputs": [],
   "source": [
    "import numpy as np\n",
    "import pandas as pd\n",
    "import matplotlib.pyplot as plt\n",
    "from sklearn import svm\n",
    "from sklearn.cross_validation import train_test_split\n",
    "from sklearn.utils import column_or_1d\n",
    "%matplotlib inline"
   ]
  },
  {
   "cell_type": "markdown",
   "metadata": {},
   "source": [
    "#### 1) Se cargan el set de datos y se asigna el porcentaje de entrenamiento"
   ]
  },
  {
   "cell_type": "code",
   "execution_count": 6,
   "metadata": {
    "collapsed": false
   },
   "outputs": [
    {
     "name": "stdout",
     "output_type": "stream",
     "text": [
      "              amount     bin status  fraud  BankFrequency  AmountCategory  \\\n",
      "0  amount below 2000  491283   paid      0            183               4   \n",
      "1   amount below 500  455255   paid      0            194               1   \n",
      "2  amount below 1500  407458   paid      0              6               3   \n",
      "3   amount below 500  455511   paid      0             64               1   \n",
      "4  amount below 1000  370782   paid      0             10               2   \n",
      "\n",
      "   AmountMark  \n",
      "0        1750  \n",
      "1         250  \n",
      "2        1250  \n",
      "3         250  \n",
      "4         750  \n",
      "                 bin         fraud  BankFrequency  AmountCategory  \\\n",
      "count   11122.000000  11122.000000   11122.000000    11122.000000   \n",
      "mean   487255.105107      0.154828     280.208236        2.220464   \n",
      "std     54447.849867      0.361757     301.820646        1.777312   \n",
      "min    370700.000000      0.000000       1.000000        1.000000   \n",
      "25%    441028.000000      0.000000      53.000000        1.000000   \n",
      "50%    491375.000000      0.000000     194.000000        2.000000   \n",
      "75%    531444.000000      0.000000     418.000000        3.000000   \n",
      "max    854873.000000      1.000000    1060.000000       26.000000   \n",
      "\n",
      "         AmountMark  \n",
      "count  11122.000000  \n",
      "mean     860.231973  \n",
      "std      888.655818  \n",
      "min      250.000000  \n",
      "25%      250.000000  \n",
      "50%      750.000000  \n",
      "75%     1250.000000  \n",
      "max    12750.000000  \n"
     ]
    }
   ],
   "source": [
    "data = pd.read_csv(\"df_data2.csv\")\n",
    "print(data.head())\n",
    "print(data.describe())"
   ]
  },
  {
   "cell_type": "code",
   "execution_count": 7,
   "metadata": {
    "collapsed": false
   },
   "outputs": [
    {
     "name": "stdout",
     "output_type": "stream",
     "text": [
      "1112 10010\n"
     ]
    }
   ],
   "source": [
    "np.random.seed(0)\n",
    "X_train, X_test, Y_train, Y_test = train_test_split(data[[\"AmountMark\"]],data[[\"fraud\"]],train_size=0.1)\n",
    "print len(X_train), len(X_test)"
   ]
  },
  {
   "cell_type": "code",
   "execution_count": 8,
   "metadata": {
    "collapsed": false
   },
   "outputs": [
    {
     "name": "stdout",
     "output_type": "stream",
     "text": [
      "       AmountMark\n",
      "7454          750\n",
      "5156          250\n",
      "10660         250\n",
      "8177          250\n",
      "9392          750\n"
     ]
    }
   ],
   "source": [
    "print(X_train.head())"
   ]
  },
  {
   "cell_type": "markdown",
   "metadata": {},
   "source": [
    "#### 2) Transformación de los datos"
   ]
  },
  {
   "cell_type": "code",
   "execution_count": 9,
   "metadata": {
    "collapsed": false
   },
   "outputs": [],
   "source": [
    "X_train1=np.asarray(X_train['AmountMark'])"
   ]
  },
  {
   "cell_type": "code",
   "execution_count": 10,
   "metadata": {
    "collapsed": false
   },
   "outputs": [
    {
     "name": "stdout",
     "output_type": "stream",
     "text": [
      "       fraud\n",
      "7454       0\n",
      "5156       1\n",
      "10660      0\n",
      "8177       0\n",
      "9392       0\n",
      "[0 1 0 0 0]\n"
     ]
    }
   ],
   "source": [
    "Y_train2 = column_or_1d(Y_train)\n",
    "print(Y_train.head())\n",
    "print(Y_train2[0:5])"
   ]
  },
  {
   "cell_type": "markdown",
   "metadata": {},
   "source": [
    "#### 3) Se define el kernel para el SVM y se ajusta el modelo"
   ]
  },
  {
   "cell_type": "code",
   "execution_count": 11,
   "metadata": {
    "collapsed": false
   },
   "outputs": [],
   "source": [
    "clf = svm.SVC(kernel='rbf', C=1e3, gamma=0.1)\n",
    "y_rbf =clf.fit(X_train, Y_train2).predict(X_train)"
   ]
  },
  {
   "cell_type": "markdown",
   "metadata": {},
   "source": [
    "#### 4) Visualización de clasificación multidimensional con SVM kernel lineal"
   ]
  },
  {
   "cell_type": "code",
   "execution_count": 12,
   "metadata": {
    "collapsed": false
   },
   "outputs": [
    {
     "data": {
      "image/png": "[encoded data removed]",
      "text/plain": [
       "<matplotlib.figure.Figure at 0x1082d7710>"
      ]
     },
     "metadata": {},
     "output_type": "display_data"
    }
   ],
   "source": [
    "plt.scatter(X_train, Y_train2, c='k', label='data')\n",
    "plt.hold('on')\n",
    "plt.plot(X_train, y_rbf, c='g', label='RBF model')\n",
    "plt.xlabel('data')\n",
    "plt.ylabel('target')\n",
    "plt.title('Support Vector Regression')\n",
    "plt.legend()\n",
    "plt.show()"
   ]
  },
  {
   "cell_type": "code",
   "execution_count": null,
   "metadata": {
    "collapsed": true
   },
   "outputs": [],
   "source": []
  }
 ],
 "metadata": {
  "kernelspec": {
   "display_name": "Python 2",
   "language": "python",
   "name": "python2"
  },
  "language_info": {
   "codemirror_mode": {
    "name": "ipython",
    "version": 2
   },
   "file_extension": ".py",
   "mimetype": "text/x-python",
   "name": "python",
   "nbconvert_exporter": "python",
   "pygments_lexer": "ipython2",
   "version": "2.7.10"
  }
 },
 "nbformat": 4,
 "nbformat_minor": 0
}
