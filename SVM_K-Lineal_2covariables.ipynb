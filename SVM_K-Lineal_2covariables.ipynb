{
 "cells": [
  {
   "cell_type": "markdown",
   "metadata": {
    "collapsed": true
   },
   "source": [
    "##Máquina de soporte vectorial para clasificación.\n",
    "###Kernel lineal y usando dos covariables\n",
    "####75% de datos de entrenamiento"
   ]
  },
  {
   "cell_type": "code",
   "execution_count": 5,
   "metadata": {
    "collapsed": true
   },
   "outputs": [],
   "source": [
    "import numpy as np\n",
    "import pandas as pd\n",
    "import matplotlib.pyplot as plt\n",
    "from sklearn import svm\n",
    "from sklearn.cross_validation import train_test_split\n",
    "from sklearn.utils import column_or_1d\n",
    "%matplotlib inline"
   ]
  },
  {
   "cell_type": "markdown",
   "metadata": {},
   "source": [
    "#### 1) Se cargan el set de datos y se asigna el porcentaje de entrenamiento"
   ]
  },
  {
   "cell_type": "code",
   "execution_count": 6,
   "metadata": {
    "collapsed": false,
    "scrolled": true
   },
   "outputs": [
    {
     "name": "stdout",
     "output_type": "stream",
     "text": [
      "              amount     bin status  fraud  BankFrequency  AmountCategory  \\\n",
      "0  amount below 2000  491283   paid      0            183               4   \n",
      "1   amount below 500  455255   paid      0            194               1   \n",
      "2  amount below 1500  407458   paid      0              6               3   \n",
      "3   amount below 500  455511   paid      0             64               1   \n",
      "4  amount below 1000  370782   paid      0             10               2   \n",
      "\n",
      "   AmountMark  \n",
      "0        1750  \n",
      "1         250  \n",
      "2        1250  \n",
      "3         250  \n",
      "4         750  \n",
      "                 bin         fraud  BankFrequency  AmountCategory  \\\n",
      "count   11122.000000  11122.000000   11122.000000    11122.000000   \n",
      "mean   487255.105107      0.154828     280.208236        2.220464   \n",
      "std     54447.849867      0.361757     301.820646        1.777312   \n",
      "min    370700.000000      0.000000       1.000000        1.000000   \n",
      "25%    441028.000000      0.000000      53.000000        1.000000   \n",
      "50%    491375.000000      0.000000     194.000000        2.000000   \n",
      "75%    531444.000000      0.000000     418.000000        3.000000   \n",
      "max    854873.000000      1.000000    1060.000000       26.000000   \n",
      "\n",
      "         AmountMark  \n",
      "count  11122.000000  \n",
      "mean     860.231973  \n",
      "std      888.655818  \n",
      "min      250.000000  \n",
      "25%      250.000000  \n",
      "50%      750.000000  \n",
      "75%     1250.000000  \n",
      "max    12750.000000  \n"
     ]
    }
   ],
   "source": [
    "data = pd.read_csv(\"df_data2.csv\")\n",
    "print(data.head())\n",
    "print(data.describe())"
   ]
  },
  {
   "cell_type": "code",
   "execution_count": 7,
   "metadata": {
    "collapsed": false
   },
   "outputs": [
    {
     "data": {
      "text/html": [
       "<div>\n",
       "<table border=\"1\" class=\"dataframe\">\n",
       "  <thead>\n",
       "    <tr style=\"text-align: right;\">\n",
       "      <th></th>\n",
       "      <th>amount</th>\n",
       "      <th>bin</th>\n",
       "      <th>status</th>\n",
       "      <th>fraud</th>\n",
       "      <th>BankFrequency</th>\n",
       "      <th>AmountCategory</th>\n",
       "      <th>AmountMark</th>\n",
       "    </tr>\n",
       "  </thead>\n",
       "  <tbody>\n",
       "    <tr>\n",
       "      <th>0</th>\n",
       "      <td>amount below 2000</td>\n",
       "      <td>491283</td>\n",
       "      <td>paid</td>\n",
       "      <td>0</td>\n",
       "      <td>183</td>\n",
       "      <td>4</td>\n",
       "      <td>1750</td>\n",
       "    </tr>\n",
       "    <tr>\n",
       "      <th>1</th>\n",
       "      <td>amount below 500</td>\n",
       "      <td>455255</td>\n",
       "      <td>paid</td>\n",
       "      <td>0</td>\n",
       "      <td>194</td>\n",
       "      <td>1</td>\n",
       "      <td>250</td>\n",
       "    </tr>\n",
       "    <tr>\n",
       "      <th>2</th>\n",
       "      <td>amount below 1500</td>\n",
       "      <td>407458</td>\n",
       "      <td>paid</td>\n",
       "      <td>0</td>\n",
       "      <td>6</td>\n",
       "      <td>3</td>\n",
       "      <td>1250</td>\n",
       "    </tr>\n",
       "    <tr>\n",
       "      <th>3</th>\n",
       "      <td>amount below 500</td>\n",
       "      <td>455511</td>\n",
       "      <td>paid</td>\n",
       "      <td>0</td>\n",
       "      <td>64</td>\n",
       "      <td>1</td>\n",
       "      <td>250</td>\n",
       "    </tr>\n",
       "    <tr>\n",
       "      <th>4</th>\n",
       "      <td>amount below 1000</td>\n",
       "      <td>370782</td>\n",
       "      <td>paid</td>\n",
       "      <td>0</td>\n",
       "      <td>10</td>\n",
       "      <td>2</td>\n",
       "      <td>750</td>\n",
       "    </tr>\n",
       "  </tbody>\n",
       "</table>\n",
       "</div>"
      ],
      "text/plain": [
       "              amount     bin status  fraud  BankFrequency  AmountCategory  \\\n",
       "0  amount below 2000  491283   paid      0            183               4   \n",
       "1   amount below 500  455255   paid      0            194               1   \n",
       "2  amount below 1500  407458   paid      0              6               3   \n",
       "3   amount below 500  455511   paid      0             64               1   \n",
       "4  amount below 1000  370782   paid      0             10               2   \n",
       "\n",
       "   AmountMark  \n",
       "0        1750  \n",
       "1         250  \n",
       "2        1250  \n",
       "3         250  \n",
       "4         750  "
      ]
     },
     "execution_count": 7,
     "metadata": {},
     "output_type": "execute_result"
    }
   ],
   "source": [
    "data.head()"
   ]
  },
  {
   "cell_type": "code",
   "execution_count": 9,
   "metadata": {
    "collapsed": false
   },
   "outputs": [
    {
     "name": "stdout",
     "output_type": "stream",
     "text": [
      "8341 2781\n"
     ]
    }
   ],
   "source": [
    "np.random.seed(0)\n",
    "X_train, X_test, Y_train, Y_test = train_test_split(data[[\"AmountMark\",\"BankFrequency\"]],data[[\"fraud\"]],train_size=0.75)\n",
    "print len(X_train), len(X_test)"
   ]
  },
  {
   "cell_type": "markdown",
   "metadata": {},
   "source": [
    "#### 2) Transformación de los datos"
   ]
  },
  {
   "cell_type": "code",
   "execution_count": 10,
   "metadata": {
    "collapsed": false
   },
   "outputs": [],
   "source": [
    "X_train1=np.asarray(X_train['AmountMark'])\n",
    "X_train2=np.asarray(X_train['BankFrequency'])"
   ]
  },
  {
   "cell_type": "code",
   "execution_count": 11,
   "metadata": {
    "collapsed": false
   },
   "outputs": [],
   "source": [
    "Y_train2 = column_or_1d(Y_train)"
   ]
  },
  {
   "cell_type": "markdown",
   "metadata": {},
   "source": [
    "#### 3) Se define el kernel para el SVM y se ajusta el modelo"
   ]
  },
  {
   "cell_type": "code",
   "execution_count": 12,
   "metadata": {
    "collapsed": false
   },
   "outputs": [
    {
     "data": {
      "text/plain": [
       "SVC(C=1.0, cache_size=200, class_weight=None, coef0=0.0, degree=3, gamma=0.0,\n",
       "  kernel='linear', max_iter=-1, probability=False, random_state=None,\n",
       "  shrinking=True, tol=0.001, verbose=False)"
      ]
     },
     "execution_count": 12,
     "metadata": {},
     "output_type": "execute_result"
    }
   ],
   "source": [
    "clf = svm.SVC(kernel='linear')\n",
    "clf.fit(X_train, Y_train2)"
   ]
  },
  {
   "cell_type": "markdown",
   "metadata": {},
   "source": [
    "####4) Valores de coeficientes y cálculo del umbral de hyperplano"
   ]
  },
  {
   "cell_type": "code",
   "execution_count": 13,
   "metadata": {
    "collapsed": false
   },
   "outputs": [
    {
     "name": "stdout",
     "output_type": "stream",
     "text": [
      "(-0.99999827269801922, array([ -9.31322575e-10,  -2.03726813e-09]), -0.45714285714285713, array([ -4.90852557e+08,  -4.90852557e+08,  -4.90852557e+08,\n",
      "        -4.90852557e+08,  -4.90852557e+08,  -4.90852557e+08,\n",
      "        -4.90852557e+08,  -4.90852557e+08,  -4.90852557e+08,\n",
      "        -4.90852557e+08,  -4.90852557e+08,  -4.90852557e+08,\n",
      "        -4.90852557e+08,  -4.90852557e+08,  -4.90852557e+08,\n",
      "        -4.90852558e+08,  -4.90852558e+08,  -4.90852558e+08,\n",
      "        -4.90852558e+08,  -4.90852558e+08,  -4.90852558e+08,\n",
      "        -4.90852558e+08,  -4.90852558e+08,  -4.90852558e+08,\n",
      "        -4.90852558e+08,  -4.90852558e+08,  -4.90852558e+08,\n",
      "        -4.90852558e+08,  -4.90852558e+08,  -4.90852558e+08,\n",
      "        -4.90852558e+08,  -4.90852558e+08,  -4.90852558e+08,\n",
      "        -4.90852558e+08,  -4.90852558e+08,  -4.90852558e+08,\n",
      "        -4.90852558e+08,  -4.90852558e+08,  -4.90852558e+08,\n",
      "        -4.90852558e+08,  -4.90852558e+08,  -4.90852558e+08,\n",
      "        -4.90852559e+08,  -4.90852559e+08,  -4.90852559e+08,\n",
      "        -4.90852559e+08,  -4.90852559e+08,  -4.90852559e+08,\n",
      "        -4.90852559e+08,  -4.90852559e+08]))\n"
     ]
    }
   ],
   "source": [
    "w = clf.coef_[0]\n",
    "w0 = (clf.intercept_[0])\n",
    "soporte = -w[0] / w[1]\n",
    "x = np.linspace(-1, 3)\n",
    "umbral = x * soporte - w0 / w[1]\n",
    "print(w0, w, soporte, umbral)"
   ]
  },
  {
   "cell_type": "code",
   "execution_count": 14,
   "metadata": {
    "collapsed": false
   },
   "outputs": [
    {
     "data": {
      "text/plain": [
       "array([ -9.31322575e-10,  -2.03726813e-09])"
      ]
     },
     "execution_count": 14,
     "metadata": {},
     "output_type": "execute_result"
    }
   ],
   "source": [
    "clf.coef_[0]"
   ]
  },
  {
   "cell_type": "markdown",
   "metadata": {},
   "source": [
    "#### 5) Visualización de clasificación multidimensional con SVM kernel lineal"
   ]
  },
  {
   "cell_type": "code",
   "execution_count": 19,
   "metadata": {
    "collapsed": false,
    "scrolled": true
   },
   "outputs": [
    {
     "name": "stdout",
     "output_type": "stream",
     "text": [
      "[-1.         -0.91836735 -0.83673469 -0.75510204 -0.67346939 -0.59183673\n",
      " -0.51020408 -0.42857143 -0.34693878 -0.26530612 -0.18367347 -0.10204082\n",
      " -0.02040816  0.06122449  0.14285714  0.2244898   0.30612245  0.3877551\n",
      "  0.46938776  0.55102041  0.63265306  0.71428571  0.79591837  0.87755102\n",
      "  0.95918367  1.04081633  1.12244898  1.20408163  1.28571429  1.36734694\n",
      "  1.44897959  1.53061224  1.6122449   1.69387755  1.7755102   1.85714286\n",
      "  1.93877551  2.02040816  2.10204082  2.18367347  2.26530612  2.34693878\n",
      "  2.42857143  2.51020408  2.59183673  2.67346939  2.75510204  2.83673469\n",
      "  2.91836735  3.        ]\n",
      "[ 250.    3.]\n",
      "[ 750.   33.]\n",
      "[ 117.74285714  117.70553936  117.66822157  117.63090379  117.59358601\n",
      "  117.55626822  117.51895044  117.48163265  117.44431487  117.40699708\n",
      "  117.3696793   117.33236152  117.29504373  117.25772595  117.22040816\n",
      "  117.18309038  117.14577259  117.10845481  117.07113703  117.03381924\n",
      "  116.99650146  116.95918367  116.92186589  116.8845481   116.84723032\n",
      "  116.80991254  116.77259475  116.73527697  116.69795918  116.6606414\n",
      "  116.62332362  116.58600583  116.54868805  116.51137026  116.47405248\n",
      "  116.43673469  116.39941691  116.36209913  116.32478134  116.28746356\n",
      "  116.25014577  116.21282799  116.1755102   116.13819242  116.10087464\n",
      "  116.06355685  116.02623907  115.98892128  115.9516035   115.91428571]\n",
      "[ 376.31428571  376.27696793  376.23965015  376.20233236  376.16501458\n",
      "  376.12769679  376.09037901  376.05306122  376.01574344  375.97842566\n",
      "  375.94110787  375.90379009  375.8664723   375.82915452  375.79183673\n",
      "  375.75451895  375.71720117  375.67988338  375.6425656   375.60524781\n",
      "  375.56793003  375.53061224  375.49329446  375.45597668  375.41865889\n",
      "  375.38134111  375.34402332  375.30670554  375.26938776  375.23206997\n",
      "  375.19475219  375.1574344   375.12011662  375.08279883  375.04548105\n",
      "  375.00816327  374.97084548  374.9335277   374.89620991  374.85889213\n",
      "  374.82157434  374.78425656  374.74693878  374.70962099  374.67230321\n",
      "  374.63498542  374.59766764  374.56034985  374.52303207  374.48571429]\n"
     ]
    }
   ],
   "source": [
    "soporte_down = clf.support_vectors_[0]\n",
    "umbral_down = soporte * x + (soporte_down[1] - soporte * soporte_down[0])\n",
    "soporte_up = clf.support_vectors_[-1]\n",
    "umbral_up = soporte * x + (soporte_up[1] - soporte * soporte_up[0])\n",
    "print(x)\n",
    "print(soporte_down)\n",
    "print(soporte_up)\n",
    "print(umbral_down)\n",
    "print(umbral_up)"
   ]
  },
  {
   "cell_type": "code",
   "execution_count": 20,
   "metadata": {
    "collapsed": false
   },
   "outputs": [
    {
     "data": {
      "image/png": "[encoded data removed]",
      "text/plain": [
       "<matplotlib.figure.Figure at 0x1097e0910>"
      ]
     },
     "metadata": {},
     "output_type": "display_data"
    }
   ],
   "source": [
    "plt.plot(x, umbral, 'k-', color='orange')\n",
    "plt.plot(x, umbral_down, 'k--', color='orange')\n",
    "plt.plot(x, umbral_up, 'k--', color='orange')\n",
    "plt.scatter(clf.support_vectors_[:, 0], clf.support_vectors_[:, 1],\n",
    "            s=80, facecolors='none')\n",
    "plt.scatter(X_train1,X_train2, c=Y_train2, edgecolors='none', s=30)\n",
    "plt.grid()"
   ]
  },
  {
   "cell_type": "markdown",
   "metadata": {},
   "source": [
    "####No es un modelo que clasifique bien"
   ]
  },
  {
   "cell_type": "code",
   "execution_count": null,
   "metadata": {
    "collapsed": true
   },
   "outputs": [],
   "source": []
  }
 ],
 "metadata": {
  "kernelspec": {
   "display_name": "Python 2",
   "language": "python",
   "name": "python2"
  },
  "language_info": {
   "codemirror_mode": {
    "name": "ipython",
    "version": 2
   },
   "file_extension": ".py",
   "mimetype": "text/x-python",
   "name": "python",
   "nbconvert_exporter": "python",
   "pygments_lexer": "ipython2",
   "version": "2.7.10"
  }
 },
 "nbformat": 4,
 "nbformat_minor": 0
}
