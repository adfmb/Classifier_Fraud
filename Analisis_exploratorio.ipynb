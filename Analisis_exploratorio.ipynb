{
 "cells": [
  {
   "cell_type": "code",
   "execution_count": 1,
   "metadata": {
    "collapsed": false
   },
   "outputs": [],
   "source": [
    "import json\n",
    "from pprint import pprint\n",
    "from pandas.io.json import json_normalize\n",
    "import numpy as np\n",
    "import pandas as pd\n",
    "import matplotlib.pyplot as plt\n",
    "import matplotlib\n",
    "matplotlib.style.use('ggplot')\n",
    "import copy\n",
    "from operator import itemgetter\n",
    "import random"
   ]
  },
  {
   "cell_type": "markdown",
   "metadata": {},
   "source": [
    "###Importando json"
   ]
  },
  {
   "cell_type": "code",
   "execution_count": 2,
   "metadata": {
    "collapsed": false
   },
   "outputs": [],
   "source": [
    "with open('dataset.json') as data_file:    \n",
    "    data = json.load(data_file)"
   ]
  },
  {
   "cell_type": "markdown",
   "metadata": {},
   "source": [
    "### Convirtiendo a DataFrame"
   ]
  },
  {
   "cell_type": "code",
   "execution_count": 3,
   "metadata": {
    "collapsed": false
   },
   "outputs": [],
   "source": [
    "df_data=json_normalize(data)"
   ]
  },
  {
   "cell_type": "code",
   "execution_count": 4,
   "metadata": {
    "collapsed": false,
    "scrolled": false
   },
   "outputs": [
    {
     "data": {
      "text/html": [
       "<div>\n",
       "<table border=\"1\" class=\"dataframe\">\n",
       "  <thead>\n",
       "    <tr style=\"text-align: right;\">\n",
       "      <th></th>\n",
       "      <th>amount</th>\n",
       "      <th>bin</th>\n",
       "      <th>card</th>\n",
       "      <th>created_at</th>\n",
       "      <th>email</th>\n",
       "      <th>ip</th>\n",
       "      <th>phone</th>\n",
       "      <th>status</th>\n",
       "    </tr>\n",
       "  </thead>\n",
       "  <tbody>\n",
       "    <tr>\n",
       "      <th>0</th>\n",
       "      <td>amount below 2000</td>\n",
       "      <td>491283</td>\n",
       "      <td>aa1ab372354dac2df968006d09c021330df9de3873fcc3...</td>\n",
       "      <td>1446335879000</td>\n",
       "      <td>791a54eb60759d429a10ed6cb14e798dde67d14143b54a...</td>\n",
       "      <td>28eaac2689185652ed243a7887a3095369e8d0f700c712...</td>\n",
       "      <td>73fd6a51cb889b79948dda5443312506d8407e9504ffe1...</td>\n",
       "      <td>paid</td>\n",
       "    </tr>\n",
       "    <tr>\n",
       "      <th>1</th>\n",
       "      <td>amount below 500</td>\n",
       "      <td>455255</td>\n",
       "      <td>ce190ed87ea2997a9292471f270895edf2ac91747b76ab...</td>\n",
       "      <td>1446335569000</td>\n",
       "      <td>a21a2428193ac0d5ef721e2194102df045af507987ac61...</td>\n",
       "      <td>6a1e1507fa357cb88803c0721098aa99fcaf1fa83716be...</td>\n",
       "      <td>84bed5fcef01489aef9d13c6f8d8e4d083cd2c1e1fc102...</td>\n",
       "      <td>paid</td>\n",
       "    </tr>\n",
       "    <tr>\n",
       "      <th>2</th>\n",
       "      <td>amount below 1500</td>\n",
       "      <td>407458</td>\n",
       "      <td>256876ba073e1c60309314a1c01cc62c4ca705e2e51d17...</td>\n",
       "      <td>1446335327000</td>\n",
       "      <td>be912be5b068ab7795caadcc2541055418f94d81fdc7cb...</td>\n",
       "      <td>c3fbf0ce702c9669914b902554d67b00c2cbadef6b18de...</td>\n",
       "      <td>ab4d13f9c6c907ea87a65b7052c74090d9b23e9c9450fb...</td>\n",
       "      <td>paid</td>\n",
       "    </tr>\n",
       "  </tbody>\n",
       "</table>\n",
       "</div>"
      ],
      "text/plain": [
       "              amount     bin  \\\n",
       "0  amount below 2000  491283   \n",
       "1   amount below 500  455255   \n",
       "2  amount below 1500  407458   \n",
       "\n",
       "                                                card     created_at  \\\n",
       "0  aa1ab372354dac2df968006d09c021330df9de3873fcc3...  1446335879000   \n",
       "1  ce190ed87ea2997a9292471f270895edf2ac91747b76ab...  1446335569000   \n",
       "2  256876ba073e1c60309314a1c01cc62c4ca705e2e51d17...  1446335327000   \n",
       "\n",
       "                                               email  \\\n",
       "0  791a54eb60759d429a10ed6cb14e798dde67d14143b54a...   \n",
       "1  a21a2428193ac0d5ef721e2194102df045af507987ac61...   \n",
       "2  be912be5b068ab7795caadcc2541055418f94d81fdc7cb...   \n",
       "\n",
       "                                                  ip  \\\n",
       "0  28eaac2689185652ed243a7887a3095369e8d0f700c712...   \n",
       "1  6a1e1507fa357cb88803c0721098aa99fcaf1fa83716be...   \n",
       "2  c3fbf0ce702c9669914b902554d67b00c2cbadef6b18de...   \n",
       "\n",
       "                                               phone status  \n",
       "0  73fd6a51cb889b79948dda5443312506d8407e9504ffe1...   paid  \n",
       "1  84bed5fcef01489aef9d13c6f8d8e4d083cd2c1e1fc102...   paid  \n",
       "2  ab4d13f9c6c907ea87a65b7052c74090d9b23e9c9450fb...   paid  "
      ]
     },
     "execution_count": 4,
     "metadata": {},
     "output_type": "execute_result"
    }
   ],
   "source": [
    "df_data.head(3)"
   ]
  },
  {
   "cell_type": "markdown",
   "metadata": {},
   "source": [
    "###Calculando casos diferentes por campos"
   ]
  },
  {
   "cell_type": "code",
   "execution_count": 5,
   "metadata": {
    "collapsed": false
   },
   "outputs": [],
   "source": [
    "num_operaciones=len(df_data.index)"
   ]
  },
  {
   "cell_type": "code",
   "execution_count": 6,
   "metadata": {
    "collapsed": false
   },
   "outputs": [],
   "source": [
    "montos_diferentes=len(df_data.amount.unique())"
   ]
  },
  {
   "cell_type": "code",
   "execution_count": 7,
   "metadata": {
    "collapsed": false
   },
   "outputs": [],
   "source": [
    "num_bin=len(df_data.bin.unique())"
   ]
  },
  {
   "cell_type": "code",
   "execution_count": 8,
   "metadata": {
    "collapsed": false
   },
   "outputs": [],
   "source": [
    "num_tdc=len(df_data.card.unique())"
   ]
  },
  {
   "cell_type": "code",
   "execution_count": 9,
   "metadata": {
    "collapsed": false
   },
   "outputs": [],
   "source": [
    "num_fechas=len(df_data.created_at.unique())"
   ]
  },
  {
   "cell_type": "code",
   "execution_count": 10,
   "metadata": {
    "collapsed": false
   },
   "outputs": [],
   "source": [
    "num_emails=len(df_data.email.unique())"
   ]
  },
  {
   "cell_type": "code",
   "execution_count": 11,
   "metadata": {
    "collapsed": false
   },
   "outputs": [],
   "source": [
    "num_ip=len(df_data.ip.unique())"
   ]
  },
  {
   "cell_type": "code",
   "execution_count": 12,
   "metadata": {
    "collapsed": false
   },
   "outputs": [],
   "source": [
    "num_celulares=len(df_data.phone.unique())"
   ]
  },
  {
   "cell_type": "code",
   "execution_count": 13,
   "metadata": {
    "collapsed": true
   },
   "outputs": [],
   "source": [
    "num_status=len(df_data.status.unique())"
   ]
  },
  {
   "cell_type": "code",
   "execution_count": 14,
   "metadata": {
    "collapsed": false
   },
   "outputs": [
    {
     "name": "stdout",
     "output_type": "stream",
     "text": [
      "(11122, 22, 581, 10816, 11089, 10816, 10672, 10858, 5)\n"
     ]
    }
   ],
   "source": [
    "print(num_operaciones,montos_diferentes,num_bin,num_tdc,num_fechas,num_emails,num_ip,num_celulares,num_status)"
   ]
  },
  {
   "cell_type": "markdown",
   "metadata": {},
   "source": [
    "### Agrupando los registros de acuerdo a los diferentes casos de 'status-monto'"
   ]
  },
  {
   "cell_type": "code",
   "execution_count": 15,
   "metadata": {
    "collapsed": true
   },
   "outputs": [],
   "source": [
    "df_status_amount3=df_data.groupby(['status', 'amount'])['bin'].count().reset_index().rename(index=str, columns={\"bin\": \"Frecuency\"})"
   ]
  },
  {
   "cell_type": "code",
   "execution_count": 16,
   "metadata": {
    "collapsed": false,
    "scrolled": true
   },
   "outputs": [
    {
     "data": {
      "text/html": [
       "<div>\n",
       "<table border=\"1\" class=\"dataframe\">\n",
       "  <thead>\n",
       "    <tr style=\"text-align: right;\">\n",
       "      <th></th>\n",
       "      <th>status</th>\n",
       "      <th>amount</th>\n",
       "      <th>Frecuency</th>\n",
       "    </tr>\n",
       "  </thead>\n",
       "  <tbody>\n",
       "    <tr>\n",
       "      <th>0</th>\n",
       "      <td>antifraud_declined</td>\n",
       "      <td>amount below 1000</td>\n",
       "      <td>96</td>\n",
       "    </tr>\n",
       "    <tr>\n",
       "      <th>1</th>\n",
       "      <td>antifraud_declined</td>\n",
       "      <td>amount below 1500</td>\n",
       "      <td>72</td>\n",
       "    </tr>\n",
       "    <tr>\n",
       "      <th>2</th>\n",
       "      <td>antifraud_declined</td>\n",
       "      <td>amount below 2000</td>\n",
       "      <td>20</td>\n",
       "    </tr>\n",
       "    <tr>\n",
       "      <th>3</th>\n",
       "      <td>antifraud_declined</td>\n",
       "      <td>amount below 2500</td>\n",
       "      <td>27</td>\n",
       "    </tr>\n",
       "    <tr>\n",
       "      <th>4</th>\n",
       "      <td>antifraud_declined</td>\n",
       "      <td>amount below 3000</td>\n",
       "      <td>13</td>\n",
       "    </tr>\n",
       "    <tr>\n",
       "      <th>5</th>\n",
       "      <td>antifraud_declined</td>\n",
       "      <td>amount below 3500</td>\n",
       "      <td>16</td>\n",
       "    </tr>\n",
       "    <tr>\n",
       "      <th>6</th>\n",
       "      <td>antifraud_declined</td>\n",
       "      <td>amount below 4000</td>\n",
       "      <td>3</td>\n",
       "    </tr>\n",
       "    <tr>\n",
       "      <th>7</th>\n",
       "      <td>antifraud_declined</td>\n",
       "      <td>amount below 4500</td>\n",
       "      <td>7</td>\n",
       "    </tr>\n",
       "    <tr>\n",
       "      <th>8</th>\n",
       "      <td>antifraud_declined</td>\n",
       "      <td>amount below 500</td>\n",
       "      <td>54</td>\n",
       "    </tr>\n",
       "    <tr>\n",
       "      <th>9</th>\n",
       "      <td>antifraud_declined</td>\n",
       "      <td>amount below 5000</td>\n",
       "      <td>2</td>\n",
       "    </tr>\n",
       "    <tr>\n",
       "      <th>10</th>\n",
       "      <td>antifraud_declined</td>\n",
       "      <td>amount below 5500</td>\n",
       "      <td>1</td>\n",
       "    </tr>\n",
       "    <tr>\n",
       "      <th>11</th>\n",
       "      <td>antifraud_declined</td>\n",
       "      <td>amount below 6000</td>\n",
       "      <td>1</td>\n",
       "    </tr>\n",
       "    <tr>\n",
       "      <th>12</th>\n",
       "      <td>antifraud_declined</td>\n",
       "      <td>amount below 6500</td>\n",
       "      <td>1</td>\n",
       "    </tr>\n",
       "    <tr>\n",
       "      <th>13</th>\n",
       "      <td>charged_back</td>\n",
       "      <td>amount below 1000</td>\n",
       "      <td>199</td>\n",
       "    </tr>\n",
       "    <tr>\n",
       "      <th>14</th>\n",
       "      <td>charged_back</td>\n",
       "      <td>amount below 1500</td>\n",
       "      <td>115</td>\n",
       "    </tr>\n",
       "    <tr>\n",
       "      <th>15</th>\n",
       "      <td>charged_back</td>\n",
       "      <td>amount below 2000</td>\n",
       "      <td>53</td>\n",
       "    </tr>\n",
       "    <tr>\n",
       "      <th>16</th>\n",
       "      <td>charged_back</td>\n",
       "      <td>amount below 2500</td>\n",
       "      <td>27</td>\n",
       "    </tr>\n",
       "    <tr>\n",
       "      <th>17</th>\n",
       "      <td>charged_back</td>\n",
       "      <td>amount below 3000</td>\n",
       "      <td>15</td>\n",
       "    </tr>\n",
       "    <tr>\n",
       "      <th>18</th>\n",
       "      <td>charged_back</td>\n",
       "      <td>amount below 3500</td>\n",
       "      <td>8</td>\n",
       "    </tr>\n",
       "    <tr>\n",
       "      <th>19</th>\n",
       "      <td>charged_back</td>\n",
       "      <td>amount below 4000</td>\n",
       "      <td>11</td>\n",
       "    </tr>\n",
       "    <tr>\n",
       "      <th>20</th>\n",
       "      <td>charged_back</td>\n",
       "      <td>amount below 4500</td>\n",
       "      <td>12</td>\n",
       "    </tr>\n",
       "    <tr>\n",
       "      <th>21</th>\n",
       "      <td>charged_back</td>\n",
       "      <td>amount below 500</td>\n",
       "      <td>147</td>\n",
       "    </tr>\n",
       "    <tr>\n",
       "      <th>22</th>\n",
       "      <td>charged_back</td>\n",
       "      <td>amount below 5000</td>\n",
       "      <td>1</td>\n",
       "    </tr>\n",
       "    <tr>\n",
       "      <th>23</th>\n",
       "      <td>charged_back</td>\n",
       "      <td>amount below 5500</td>\n",
       "      <td>2</td>\n",
       "    </tr>\n",
       "    <tr>\n",
       "      <th>24</th>\n",
       "      <td>charged_back</td>\n",
       "      <td>amount below 6000</td>\n",
       "      <td>1</td>\n",
       "    </tr>\n",
       "    <tr>\n",
       "      <th>25</th>\n",
       "      <td>charged_back</td>\n",
       "      <td>amount below 7500</td>\n",
       "      <td>1</td>\n",
       "    </tr>\n",
       "    <tr>\n",
       "      <th>26</th>\n",
       "      <td>charged_back</td>\n",
       "      <td>amount below 8500</td>\n",
       "      <td>1</td>\n",
       "    </tr>\n",
       "    <tr>\n",
       "      <th>27</th>\n",
       "      <td>paid</td>\n",
       "      <td>amount below 1000</td>\n",
       "      <td>3178</td>\n",
       "    </tr>\n",
       "    <tr>\n",
       "      <th>28</th>\n",
       "      <td>paid</td>\n",
       "      <td>amount below 10000</td>\n",
       "      <td>2</td>\n",
       "    </tr>\n",
       "    <tr>\n",
       "      <th>29</th>\n",
       "      <td>paid</td>\n",
       "      <td>amount below 10500</td>\n",
       "      <td>1</td>\n",
       "    </tr>\n",
       "    <tr>\n",
       "      <th>...</th>\n",
       "      <td>...</td>\n",
       "      <td>...</td>\n",
       "      <td>...</td>\n",
       "    </tr>\n",
       "    <tr>\n",
       "      <th>41</th>\n",
       "      <td>paid</td>\n",
       "      <td>amount below 6000</td>\n",
       "      <td>8</td>\n",
       "    </tr>\n",
       "    <tr>\n",
       "      <th>42</th>\n",
       "      <td>paid</td>\n",
       "      <td>amount below 6500</td>\n",
       "      <td>11</td>\n",
       "    </tr>\n",
       "    <tr>\n",
       "      <th>43</th>\n",
       "      <td>paid</td>\n",
       "      <td>amount below 7000</td>\n",
       "      <td>6</td>\n",
       "    </tr>\n",
       "    <tr>\n",
       "      <th>44</th>\n",
       "      <td>paid</td>\n",
       "      <td>amount below 7500</td>\n",
       "      <td>2</td>\n",
       "    </tr>\n",
       "    <tr>\n",
       "      <th>45</th>\n",
       "      <td>paid</td>\n",
       "      <td>amount below 8000</td>\n",
       "      <td>3</td>\n",
       "    </tr>\n",
       "    <tr>\n",
       "      <th>46</th>\n",
       "      <td>paid</td>\n",
       "      <td>amount below 8500</td>\n",
       "      <td>2</td>\n",
       "    </tr>\n",
       "    <tr>\n",
       "      <th>47</th>\n",
       "      <td>paid</td>\n",
       "      <td>amount below 9000</td>\n",
       "      <td>1</td>\n",
       "    </tr>\n",
       "    <tr>\n",
       "      <th>48</th>\n",
       "      <td>paid</td>\n",
       "      <td>amount below 9500</td>\n",
       "      <td>1</td>\n",
       "    </tr>\n",
       "    <tr>\n",
       "      <th>49</th>\n",
       "      <td>partially_refunded</td>\n",
       "      <td>amount below 1000</td>\n",
       "      <td>2</td>\n",
       "    </tr>\n",
       "    <tr>\n",
       "      <th>50</th>\n",
       "      <td>partially_refunded</td>\n",
       "      <td>amount below 1500</td>\n",
       "      <td>1</td>\n",
       "    </tr>\n",
       "    <tr>\n",
       "      <th>51</th>\n",
       "      <td>partially_refunded</td>\n",
       "      <td>amount below 2000</td>\n",
       "      <td>1</td>\n",
       "    </tr>\n",
       "    <tr>\n",
       "      <th>52</th>\n",
       "      <td>partially_refunded</td>\n",
       "      <td>amount below 2500</td>\n",
       "      <td>2</td>\n",
       "    </tr>\n",
       "    <tr>\n",
       "      <th>53</th>\n",
       "      <td>partially_refunded</td>\n",
       "      <td>amount below 3000</td>\n",
       "      <td>1</td>\n",
       "    </tr>\n",
       "    <tr>\n",
       "      <th>54</th>\n",
       "      <td>partially_refunded</td>\n",
       "      <td>amount below 500</td>\n",
       "      <td>2</td>\n",
       "    </tr>\n",
       "    <tr>\n",
       "      <th>55</th>\n",
       "      <td>refunded</td>\n",
       "      <td>amount below 1000</td>\n",
       "      <td>214</td>\n",
       "    </tr>\n",
       "    <tr>\n",
       "      <th>56</th>\n",
       "      <td>refunded</td>\n",
       "      <td>amount below 13000</td>\n",
       "      <td>1</td>\n",
       "    </tr>\n",
       "    <tr>\n",
       "      <th>57</th>\n",
       "      <td>refunded</td>\n",
       "      <td>amount below 1500</td>\n",
       "      <td>82</td>\n",
       "    </tr>\n",
       "    <tr>\n",
       "      <th>58</th>\n",
       "      <td>refunded</td>\n",
       "      <td>amount below 2000</td>\n",
       "      <td>37</td>\n",
       "    </tr>\n",
       "    <tr>\n",
       "      <th>59</th>\n",
       "      <td>refunded</td>\n",
       "      <td>amount below 2500</td>\n",
       "      <td>28</td>\n",
       "    </tr>\n",
       "    <tr>\n",
       "      <th>60</th>\n",
       "      <td>refunded</td>\n",
       "      <td>amount below 3000</td>\n",
       "      <td>10</td>\n",
       "    </tr>\n",
       "    <tr>\n",
       "      <th>61</th>\n",
       "      <td>refunded</td>\n",
       "      <td>amount below 3500</td>\n",
       "      <td>12</td>\n",
       "    </tr>\n",
       "    <tr>\n",
       "      <th>62</th>\n",
       "      <td>refunded</td>\n",
       "      <td>amount below 4000</td>\n",
       "      <td>7</td>\n",
       "    </tr>\n",
       "    <tr>\n",
       "      <th>63</th>\n",
       "      <td>refunded</td>\n",
       "      <td>amount below 4500</td>\n",
       "      <td>3</td>\n",
       "    </tr>\n",
       "    <tr>\n",
       "      <th>64</th>\n",
       "      <td>refunded</td>\n",
       "      <td>amount below 500</td>\n",
       "      <td>382</td>\n",
       "    </tr>\n",
       "    <tr>\n",
       "      <th>65</th>\n",
       "      <td>refunded</td>\n",
       "      <td>amount below 5000</td>\n",
       "      <td>6</td>\n",
       "    </tr>\n",
       "    <tr>\n",
       "      <th>66</th>\n",
       "      <td>refunded</td>\n",
       "      <td>amount below 5500</td>\n",
       "      <td>8</td>\n",
       "    </tr>\n",
       "    <tr>\n",
       "      <th>67</th>\n",
       "      <td>refunded</td>\n",
       "      <td>amount below 6000</td>\n",
       "      <td>6</td>\n",
       "    </tr>\n",
       "    <tr>\n",
       "      <th>68</th>\n",
       "      <td>refunded</td>\n",
       "      <td>amount below 6500</td>\n",
       "      <td>5</td>\n",
       "    </tr>\n",
       "    <tr>\n",
       "      <th>69</th>\n",
       "      <td>refunded</td>\n",
       "      <td>amount below 7000</td>\n",
       "      <td>5</td>\n",
       "    </tr>\n",
       "    <tr>\n",
       "      <th>70</th>\n",
       "      <td>refunded</td>\n",
       "      <td>amount below 8500</td>\n",
       "      <td>1</td>\n",
       "    </tr>\n",
       "  </tbody>\n",
       "</table>\n",
       "<p>71 rows × 3 columns</p>\n",
       "</div>"
      ],
      "text/plain": [
       "                status              amount  Frecuency\n",
       "0   antifraud_declined   amount below 1000         96\n",
       "1   antifraud_declined   amount below 1500         72\n",
       "2   antifraud_declined   amount below 2000         20\n",
       "3   antifraud_declined   amount below 2500         27\n",
       "4   antifraud_declined   amount below 3000         13\n",
       "5   antifraud_declined   amount below 3500         16\n",
       "6   antifraud_declined   amount below 4000          3\n",
       "7   antifraud_declined   amount below 4500          7\n",
       "8   antifraud_declined    amount below 500         54\n",
       "9   antifraud_declined   amount below 5000          2\n",
       "10  antifraud_declined   amount below 5500          1\n",
       "11  antifraud_declined   amount below 6000          1\n",
       "12  antifraud_declined   amount below 6500          1\n",
       "13        charged_back   amount below 1000        199\n",
       "14        charged_back   amount below 1500        115\n",
       "15        charged_back   amount below 2000         53\n",
       "16        charged_back   amount below 2500         27\n",
       "17        charged_back   amount below 3000         15\n",
       "18        charged_back   amount below 3500          8\n",
       "19        charged_back   amount below 4000         11\n",
       "20        charged_back   amount below 4500         12\n",
       "21        charged_back    amount below 500        147\n",
       "22        charged_back   amount below 5000          1\n",
       "23        charged_back   amount below 5500          2\n",
       "24        charged_back   amount below 6000          1\n",
       "25        charged_back   amount below 7500          1\n",
       "26        charged_back   amount below 8500          1\n",
       "27                paid   amount below 1000       3178\n",
       "28                paid  amount below 10000          2\n",
       "29                paid  amount below 10500          1\n",
       "..                 ...                 ...        ...\n",
       "41                paid   amount below 6000          8\n",
       "42                paid   amount below 6500         11\n",
       "43                paid   amount below 7000          6\n",
       "44                paid   amount below 7500          2\n",
       "45                paid   amount below 8000          3\n",
       "46                paid   amount below 8500          2\n",
       "47                paid   amount below 9000          1\n",
       "48                paid   amount below 9500          1\n",
       "49  partially_refunded   amount below 1000          2\n",
       "50  partially_refunded   amount below 1500          1\n",
       "51  partially_refunded   amount below 2000          1\n",
       "52  partially_refunded   amount below 2500          2\n",
       "53  partially_refunded   amount below 3000          1\n",
       "54  partially_refunded    amount below 500          2\n",
       "55            refunded   amount below 1000        214\n",
       "56            refunded  amount below 13000          1\n",
       "57            refunded   amount below 1500         82\n",
       "58            refunded   amount below 2000         37\n",
       "59            refunded   amount below 2500         28\n",
       "60            refunded   amount below 3000         10\n",
       "61            refunded   amount below 3500         12\n",
       "62            refunded   amount below 4000          7\n",
       "63            refunded   amount below 4500          3\n",
       "64            refunded    amount below 500        382\n",
       "65            refunded   amount below 5000          6\n",
       "66            refunded   amount below 5500          8\n",
       "67            refunded   amount below 6000          6\n",
       "68            refunded   amount below 6500          5\n",
       "69            refunded   amount below 7000          5\n",
       "70            refunded   amount below 8500          1\n",
       "\n",
       "[71 rows x 3 columns]"
      ]
     },
     "execution_count": 16,
     "metadata": {},
     "output_type": "execute_result"
    }
   ],
   "source": [
    "df_status_amount3"
   ]
  },
  {
   "cell_type": "markdown",
   "metadata": {},
   "source": [
    "###Histograma para la densidad de las frecuencias de las combinaciones 'status-monto'"
   ]
  },
  {
   "cell_type": "code",
   "execution_count": 17,
   "metadata": {
    "collapsed": false
   },
   "outputs": [
    {
     "data": {
      "text/plain": [
       "array([[<matplotlib.axes._subplots.AxesSubplot object at 0x1087f87d0>]], dtype=object)"
      ]
     },
     "execution_count": 17,
     "metadata": {},
     "output_type": "execute_result"
    },
    {
     "data": {
      "image/png": "[encoded data removed]",
      "text/plain": [
       "<matplotlib.figure.Figure at 0x1087f81d0>"
      ]
     },
     "metadata": {},
     "output_type": "display_data"
    }
   ],
   "source": [
    "%matplotlib inline\n",
    "df_status_amount3.hist()"
   ]
  },
  {
   "cell_type": "code",
   "execution_count": 18,
   "metadata": {
    "collapsed": false
   },
   "outputs": [
    {
     "data": {
      "text/plain": [
       "95.77464788732394"
      ]
     },
     "execution_count": 18,
     "metadata": {},
     "output_type": "execute_result"
    }
   ],
   "source": [
    "100*float(len(df_status_amount3.Frecuency[df_status_amount3.Frecuency<500]))/len(df_status_amount3.Frecuency)"
   ]
  },
  {
   "cell_type": "code",
   "execution_count": 19,
   "metadata": {
    "collapsed": false
   },
   "outputs": [
    {
     "data": {
      "text/plain": [
       "25.508002157885272"
      ]
     },
     "execution_count": 19,
     "metadata": {},
     "output_type": "execute_result"
    }
   ],
   "source": [
    "100*float(df_status_amount3.Frecuency[df_status_amount3.Frecuency<500].sum())/df_status_amount3.Frecuency.sum()"
   ]
  },
  {
   "cell_type": "markdown",
   "metadata": {},
   "source": [
    "##Las combinaciones que aparecen menos de 500 veces en la base implican un 95% del total de las mismas y un 25% de los registros de la base. \n",
    "\n",
    "##Es decir, el 75% de las transacciones que se tienen registradas están distribuidas en menos de un 5% de las combinaciones 'status-monto' posibles."
   ]
  },
  {
   "cell_type": "markdown",
   "metadata": {},
   "source": [
    "###Tomando como 'Operaciones exitosamente cobradas' a los casos con status 'paid':"
   ]
  },
  {
   "cell_type": "code",
   "execution_count": 20,
   "metadata": {
    "collapsed": false
   },
   "outputs": [
    {
     "name": "stdout",
     "output_type": "stream",
     "text": [
      "Combinaciones con operaciones exitosamente cobradas: 22\n"
     ]
    }
   ],
   "source": [
    "print(\"Combinaciones con operaciones exitosamente cobradas: %s\" %len(df_status_amount3[df_status_amount3.status=='paid'].Frecuency))"
   ]
  },
  {
   "cell_type": "code",
   "execution_count": 21,
   "metadata": {
    "collapsed": false
   },
   "outputs": [
    {
     "name": "stdout",
     "output_type": "stream",
     "text": [
      "Combinaciones con operaciones no necesariamente exitosamente cobradas: 49\n"
     ]
    }
   ],
   "source": [
    "print(\"Combinaciones con operaciones no necesariamente exitosamente cobradas: %s\" %len(df_status_amount3[df_status_amount3.status!='paid'].Frecuency))"
   ]
  },
  {
   "cell_type": "code",
   "execution_count": 22,
   "metadata": {
    "collapsed": false
   },
   "outputs": [
    {
     "name": "stdout",
     "output_type": "stream",
     "text": [
      "Operaciones exitosamente cobradas: 9400\n"
     ]
    }
   ],
   "source": [
    "print(\"Operaciones exitosamente cobradas: %s\" %df_status_amount3[df_status_amount3.status=='paid'].Frecuency.sum())"
   ]
  },
  {
   "cell_type": "code",
   "execution_count": 23,
   "metadata": {
    "collapsed": false
   },
   "outputs": [
    {
     "name": "stdout",
     "output_type": "stream",
     "text": [
      "Operaciones no necesariamente exitosamente cobradas: 1722\n"
     ]
    }
   ],
   "source": [
    "print(\"Operaciones no necesariamente exitosamente cobradas: %s\" %df_status_amount3[df_status_amount3.status!='paid'].Frecuency.sum())"
   ]
  },
  {
   "cell_type": "code",
   "execution_count": 24,
   "metadata": {
    "collapsed": false
   },
   "outputs": [
    {
     "name": "stdout",
     "output_type": "stream",
     "text": [
      "Porcentaje de Combinaciones con operaciones exitosamente cobradas: 30.000000 \n"
     ]
    }
   ],
   "source": [
    "print(\"Porcentaje de Combinaciones con operaciones exitosamente cobradas: %f \" %float(100*len(df_status_amount3[df_status_amount3.status=='paid'].Frecuency)/len(df_status_amount3.Frecuency)))"
   ]
  },
  {
   "cell_type": "code",
   "execution_count": 25,
   "metadata": {
    "collapsed": false
   },
   "outputs": [
    {
     "name": "stdout",
     "output_type": "stream",
     "text": [
      "Porcentaje de Combinaciones con operaciones no necesariamente exitosamente cobradas: 69.000000 \n"
     ]
    }
   ],
   "source": [
    "print(\"Porcentaje de Combinaciones con operaciones no necesariamente exitosamente cobradas: %f \" %float(100*len(df_status_amount3[df_status_amount3.status!='paid'].Frecuency)/len(df_status_amount3.Frecuency)))"
   ]
  },
  {
   "cell_type": "code",
   "execution_count": 26,
   "metadata": {
    "collapsed": false
   },
   "outputs": [
    {
     "name": "stdout",
     "output_type": "stream",
     "text": [
      "Porcentaje de Operaciones exitosamente cobradas: 84.000000\n"
     ]
    }
   ],
   "source": [
    "print(\"Porcentaje de Operaciones exitosamente cobradas: %f\" %float(100*df_status_amount3[df_status_amount3.status=='paid'].Frecuency.sum()/df_status_amount3.Frecuency.sum()))"
   ]
  },
  {
   "cell_type": "code",
   "execution_count": 27,
   "metadata": {
    "collapsed": false
   },
   "outputs": [
    {
     "name": "stdout",
     "output_type": "stream",
     "text": [
      "Porcentaje de Operaciones no necesariamente exitosamente cobradas: 15.000000\n"
     ]
    }
   ],
   "source": [
    "print(\"Porcentaje de Operaciones no necesariamente exitosamente cobradas: %f\" %float(100*df_status_amount3[df_status_amount3.status!='paid'].Frecuency.sum()/df_status_amount3.Frecuency.sum()))"
   ]
  },
  {
   "cell_type": "markdown",
   "metadata": {},
   "source": [
    "## El 15% de los registros, que son los que contienen los casos no necesariamente cobrados exitosamente, están distribuidos entre un 69% de las combinaciones posibles de 'status-monto'. Es decir, en la cantidad más pequeña de los registros está la mayor cantidad de combinaciones diferentes.\n",
    "\n",
    "\n",
    "\n",
    "\n",
    "\n",
    "## Los casos de fraude los identificaremos como todas las operaciones donde el status no haya sido catalogado como 'paid' debido a los siguientes dos puntos:\n",
    "\n",
    "\n",
    "     1.- Tenemos certeza de que una operación fue totalmente pagada cuando el status nos indica 'paid'. En los casos de 'antifraud_declined' y 'charged_back' sabemos que se trata de casos de fraude. Y en los casos de 'partially_refunded' y 'refunded' pudimos haber caído en casos de reintegro del dinero en alguna propoción, por lo que eso pudo haber generado que Conekta o la empresa vendedora haya sufrido pérdida en la operación.\n",
    "\n",
    "    2.-Debido a que hay una gran heterogeneidad entre todos los casos donde no necesariamente el cobro fue exitoso (antifraud_declined, charged_back , partially_refunded, refunded) en un porcentaje 'bajo' (en comparación con los casos exitosamente cobrados) de operaciones.\n",
    "    "
   ]
  },
  {
   "cell_type": "markdown",
   "metadata": {},
   "source": [
    "###Hacemos una copia de la base para no modificar los datos originales y trabajar con la copia"
   ]
  },
  {
   "cell_type": "code",
   "execution_count": 28,
   "metadata": {
    "collapsed": true
   },
   "outputs": [],
   "source": [
    "df_data2 = copy.deepcopy(df_data)"
   ]
  },
  {
   "cell_type": "markdown",
   "metadata": {},
   "source": [
    "###Quitamos los campos que no utilizaremos"
   ]
  },
  {
   "cell_type": "code",
   "execution_count": 29,
   "metadata": {
    "collapsed": false
   },
   "outputs": [],
   "source": [
    "df_data2.drop(df_data2.columns[range(2,7)], axis=1, inplace=True)"
   ]
  },
  {
   "cell_type": "markdown",
   "metadata": {},
   "source": [
    "###Creamos el campo 'fraud' para identificar los casos de Fraude en la base (fraud=1 implicará operación fraudulenta)"
   ]
  },
  {
   "cell_type": "code",
   "execution_count": 30,
   "metadata": {
    "collapsed": true
   },
   "outputs": [],
   "source": [
    "df_data2['fraud']=0\n"
   ]
  },
  {
   "cell_type": "markdown",
   "metadata": {},
   "source": [
    "###Creamos también un campo llamado 'BankFrequency' en el que calcularemos la cantidad de operaciones que tiene cada uno de los bancos en la base que se está analizando con la intención de evaluar si ésta puede ser una variable que resulte significativa para la identificación de operaciones fraudulentas."
   ]
  },
  {
   "cell_type": "code",
   "execution_count": 31,
   "metadata": {
    "collapsed": true
   },
   "outputs": [],
   "source": [
    "df_data2['BankFrequency']=0"
   ]
  },
  {
   "cell_type": "code",
   "execution_count": 32,
   "metadata": {
    "collapsed": false
   },
   "outputs": [
    {
     "name": "stdout",
     "output_type": "stream",
     "text": [
      "paid\n",
      "refunded\n",
      "antifraud_declined\n",
      "charged_back\n",
      "partially_refunded\n"
     ]
    }
   ],
   "source": [
    "for i in range(len(df_data2.status.unique())):\n",
    "    print df_data2.status.unique()[i]"
   ]
  },
  {
   "cell_type": "markdown",
   "metadata": {},
   "source": [
    "###Creamos dos diccionarios. El primero es para etiquetar los casos de fraude y no-fraude a partir del campo 'status' y el segundo es para asignar a cada registro la frecuencia con la que aparece el banco (bin) de la tarjeta con la que se realizó dicha operación."
   ]
  },
  {
   "cell_type": "code",
   "execution_count": 33,
   "metadata": {
    "collapsed": false
   },
   "outputs": [],
   "source": [
    "fraudcatalogue={'antifraud_declined':1,'charged_back' :1,'paid':0,'partially_refunded':1,'refunded':1}"
   ]
  },
  {
   "cell_type": "code",
   "execution_count": 34,
   "metadata": {
    "collapsed": true
   },
   "outputs": [],
   "source": [
    "bankfreq = { banco : len(df_data2.bin[df_data2.bin==banco]) for banco in df_data2.bin.unique() }"
   ]
  },
  {
   "cell_type": "markdown",
   "metadata": {},
   "source": [
    "### Le asignamos a cada registro sus respectivos valores para los campos 'fradu' y 'BankFrequency' en base a los diccionarios creados"
   ]
  },
  {
   "cell_type": "code",
   "execution_count": 35,
   "metadata": {
    "collapsed": false
   },
   "outputs": [],
   "source": [
    "df_data2.fraud=itemgetter(*df_data2.status)(fraudcatalogue)"
   ]
  },
  {
   "cell_type": "code",
   "execution_count": 36,
   "metadata": {
    "collapsed": true
   },
   "outputs": [],
   "source": [
    "df_data2.BankFrequency = itemgetter(*df_data2.bin)(bankfreq)"
   ]
  },
  {
   "cell_type": "markdown",
   "metadata": {},
   "source": [
    "##Intervalos de los montos involucrados.\n",
    "\n",
    "###En esta parte asignaremos categorías para los intervalos de los montos en cada operación, así como también una marca de clase (promedio del intervalo) como una primera opción de referencia de la cantidad de dinero involucrada en cada transacción. Lo anterior basándonos del supuesto de que los intervalos son construidos con homogeneidad dentro de los mismo y sin preferencia hacia las cantidades que se encuentran contenidas en ellos.\n",
    "\n",
    "###Posteriormente también asignaremos cantidades aleatorias para cada operación que estén contenidas en el intervalo correspondiente. Lo anterior será mediante una distribución uniforme basándonos del mismo supuesto comentado en el párrafo anterior."
   ]
  },
  {
   "cell_type": "code",
   "execution_count": 37,
   "metadata": {
    "collapsed": false
   },
   "outputs": [
    {
     "data": {
      "text/plain": [
       "array([u'amount below 2000', u'amount below 500', u'amount below 1500',\n",
       "       u'amount below 1000', u'amount below 2500', u'amount below 3500',\n",
       "       u'amount below 6000', u'amount below 4000', u'amount below 3000',\n",
       "       u'amount below 5000', u'amount below 5500', u'amount below 6500',\n",
       "       u'amount below 4500', u'amount below 7500', u'amount below 8500',\n",
       "       u'amount below 10000', u'amount below 13000', u'amount below 7000',\n",
       "       u'amount below 10500', u'amount below 9500', u'amount below 8000',\n",
       "       u'amount below 9000'], dtype=object)"
      ]
     },
     "execution_count": 37,
     "metadata": {},
     "output_type": "execute_result"
    }
   ],
   "source": [
    "df_data2.amount.unique()"
   ]
  },
  {
   "cell_type": "code",
   "execution_count": 38,
   "metadata": {
    "collapsed": false,
    "scrolled": true
   },
   "outputs": [],
   "source": [
    "intervalos=sorted(df_data2.amount.unique())"
   ]
  },
  {
   "cell_type": "code",
   "execution_count": 39,
   "metadata": {
    "collapsed": true
   },
   "outputs": [],
   "source": [
    "def remove_prefix(text, prefix):\n",
    "    if text.startswith(prefix):\n",
    "        return text[len(prefix):]\n",
    "    return text"
   ]
  },
  {
   "cell_type": "code",
   "execution_count": 41,
   "metadata": {
    "collapsed": true
   },
   "outputs": [],
   "source": [
    "prefixes=('amount below ')"
   ]
  },
  {
   "cell_type": "code",
   "execution_count": 42,
   "metadata": {
    "collapsed": false
   },
   "outputs": [
    {
     "name": "stdout",
     "output_type": "stream",
     "text": [
      "(10000.0, 10500.0)\n"
     ]
    }
   ],
   "source": [
    "a=remove_prefix(intervalos[1],prefixes)\n",
    "b=remove_prefix(intervalos[2],prefixes)\n",
    "print(float(a),float(b))"
   ]
  },
  {
   "cell_type": "code",
   "execution_count": 43,
   "metadata": {
    "collapsed": false
   },
   "outputs": [
    {
     "data": {
      "text/plain": [
       "{u'amount below 1000': 2.0,\n",
       " u'amount below 10000': 20.0,\n",
       " u'amount below 10500': 21.0,\n",
       " u'amount below 13000': 26.0,\n",
       " u'amount below 1500': 3.0,\n",
       " u'amount below 2000': 4.0,\n",
       " u'amount below 2500': 5.0,\n",
       " u'amount below 3000': 6.0,\n",
       " u'amount below 3500': 7.0,\n",
       " u'amount below 4000': 8.0,\n",
       " u'amount below 4500': 9.0,\n",
       " u'amount below 500': 1.0,\n",
       " u'amount below 5000': 10.0,\n",
       " u'amount below 5500': 11.0,\n",
       " u'amount below 6000': 12.0,\n",
       " u'amount below 6500': 13.0,\n",
       " u'amount below 7000': 14.0,\n",
       " u'amount below 7500': 15.0,\n",
       " u'amount below 8000': 16.0,\n",
       " u'amount below 8500': 17.0,\n",
       " u'amount below 9000': 18.0,\n",
       " u'amount below 9500': 19.0}"
      ]
     },
     "execution_count": 43,
     "metadata": {},
     "output_type": "execute_result"
    }
   ],
   "source": [
    "amount_catalogue = { intervalo : float(remove_prefix(intervalo,prefixes))/500 for intervalo in intervalos }   \n",
    "amount_catalogue"
   ]
  },
  {
   "cell_type": "code",
   "execution_count": 44,
   "metadata": {
    "collapsed": true
   },
   "outputs": [],
   "source": [
    "df_data2['AmountCategory']=0\n",
    "\n",
    "\n",
    "df_data2.AmountCategory = itemgetter(*df_data2.amount)(amount_catalogue)"
   ]
  },
  {
   "cell_type": "code",
   "execution_count": 45,
   "metadata": {
    "collapsed": false
   },
   "outputs": [
    {
     "data": {
      "text/plain": [
       "{1.0: 250.0,\n",
       " 2.0: 750.0,\n",
       " 3.0: 1250.0,\n",
       " 4.0: 1750.0,\n",
       " 5.0: 2250.0,\n",
       " 6.0: 2750.0,\n",
       " 7.0: 3250.0,\n",
       " 8.0: 3750.0,\n",
       " 9.0: 4250.0,\n",
       " 10.0: 4750.0,\n",
       " 11.0: 5250.0,\n",
       " 12.0: 5750.0,\n",
       " 13.0: 6250.0,\n",
       " 14.0: 6750.0,\n",
       " 15.0: 7250.0,\n",
       " 16.0: 7750.0,\n",
       " 17.0: 8250.0,\n",
       " 18.0: 8750.0,\n",
       " 19.0: 9250.0,\n",
       " 20.0: 9750.0,\n",
       " 21.0: 10250.0,\n",
       " 26.0: 12750.0}"
      ]
     },
     "execution_count": 45,
     "metadata": {},
     "output_type": "execute_result"
    }
   ],
   "source": [
    "amount_mark = { float(remove_prefix(intervalo,prefixes))/500 : float(remove_prefix(intervalo,prefixes))-250 for intervalo in intervalos }   \n",
    "amount_mark"
   ]
  },
  {
   "cell_type": "code",
   "execution_count": 46,
   "metadata": {
    "collapsed": true
   },
   "outputs": [],
   "source": [
    "df_data2['AmountMark']=0\n",
    "\n",
    "df_data2.AmountMark = itemgetter(*df_data2.AmountCategory)(amount_mark)"
   ]
  },
  {
   "cell_type": "code",
   "execution_count": 47,
   "metadata": {
    "collapsed": false
   },
   "outputs": [
    {
     "name": "stdout",
     "output_type": "stream",
     "text": [
      "Dinero del total de transacciones bajo el supuesto de que en cada una se involucraba la respectiva marca de clase: \n",
      "9567500.000000 \n"
     ]
    }
   ],
   "source": [
    "print(\"Dinero del total de transacciones bajo el supuesto de que en cada una se involucraba la respectiva marca de clase: \\n\" \n",
    "      \"%f \" %float(df_data2.AmountMark.sum()))"
   ]
  },
  {
   "cell_type": "markdown",
   "metadata": {},
   "source": [
    "###La cantidad máxima que se estaría dejando de considerar en la base es cuando todos los movimientos hayan sido con los máximos de cada intervalo. "
   ]
  },
  {
   "cell_type": "code",
   "execution_count": 48,
   "metadata": {
    "collapsed": false
   },
   "outputs": [
    {
     "name": "stdout",
     "output_type": "stream",
     "text": [
      "Dicho monto total sería: \n",
      "2780500.000000\n"
     ]
    }
   ],
   "source": [
    "print(\"Dicho monto total sería: \\n\"\n",
    " \"%f\" %float(250*num_operaciones))"
   ]
  },
  {
   "cell_type": "markdown",
   "metadata": {},
   "source": [
    "###Tomamos la variable 'AmountCategory' como la cantidad de categorías o niveles de monto que implica cada operación."
   ]
  },
  {
   "cell_type": "code",
   "execution_count": 49,
   "metadata": {
    "collapsed": false
   },
   "outputs": [
    {
     "name": "stdout",
     "output_type": "stream",
     "text": [
      "Por lo anterior, la cantidad de niveles o categorías de montos involucrados en la base es de: \n",
      "24696.000000 \n"
     ]
    }
   ],
   "source": [
    "print(\"Por lo anterior, la cantidad de niveles o categorías de montos involucrados en la base es de: \\n\"\n",
    "      \"%f \" %float(df_data2.AmountCategory.sum()))"
   ]
  },
  {
   "cell_type": "markdown",
   "metadata": {},
   "source": [
    "###Es decir, si en lugar de dinero, tuviéramos un presupuesto en unidades de categorías de monto, necesitaríamos 24,696 unidades para solventar todas las cantidades involucradas en la base analizada."
   ]
  },
  {
   "cell_type": "markdown",
   "metadata": {},
   "source": [
    "###Si quisieramos solventar todas las operaciones donde los montos involucrados fueran sus respectivas marcas de clase, las unidades de categorías necesarias para 'pagar' todas sería de:"
   ]
  },
  {
   "cell_type": "code",
   "execution_count": 50,
   "metadata": {
    "collapsed": false
   },
   "outputs": [
    {
     "data": {
      "text/plain": [
       "19135.0"
      ]
     },
     "execution_count": 50,
     "metadata": {},
     "output_type": "execute_result"
    }
   ],
   "source": [
    "float(df_data2.AmountMark.sum()/500)"
   ]
  },
  {
   "cell_type": "code",
   "execution_count": 51,
   "metadata": {
    "collapsed": false,
    "scrolled": true
   },
   "outputs": [
    {
     "data": {
      "text/html": [
       "<div>\n",
       "<table border=\"1\" class=\"dataframe\">\n",
       "  <thead>\n",
       "    <tr style=\"text-align: right;\">\n",
       "      <th></th>\n",
       "      <th>amount</th>\n",
       "      <th>bin</th>\n",
       "      <th>status</th>\n",
       "      <th>fraud</th>\n",
       "      <th>BankFrequency</th>\n",
       "      <th>AmountCategory</th>\n",
       "      <th>AmountMark</th>\n",
       "    </tr>\n",
       "  </thead>\n",
       "  <tbody>\n",
       "    <tr>\n",
       "      <th>0</th>\n",
       "      <td>amount below 2000</td>\n",
       "      <td>491283</td>\n",
       "      <td>paid</td>\n",
       "      <td>0</td>\n",
       "      <td>183</td>\n",
       "      <td>4</td>\n",
       "      <td>1750</td>\n",
       "    </tr>\n",
       "    <tr>\n",
       "      <th>1</th>\n",
       "      <td>amount below 500</td>\n",
       "      <td>455255</td>\n",
       "      <td>paid</td>\n",
       "      <td>0</td>\n",
       "      <td>194</td>\n",
       "      <td>1</td>\n",
       "      <td>250</td>\n",
       "    </tr>\n",
       "    <tr>\n",
       "      <th>2</th>\n",
       "      <td>amount below 1500</td>\n",
       "      <td>407458</td>\n",
       "      <td>paid</td>\n",
       "      <td>0</td>\n",
       "      <td>6</td>\n",
       "      <td>3</td>\n",
       "      <td>1250</td>\n",
       "    </tr>\n",
       "    <tr>\n",
       "      <th>3</th>\n",
       "      <td>amount below 500</td>\n",
       "      <td>455511</td>\n",
       "      <td>paid</td>\n",
       "      <td>0</td>\n",
       "      <td>64</td>\n",
       "      <td>1</td>\n",
       "      <td>250</td>\n",
       "    </tr>\n",
       "    <tr>\n",
       "      <th>4</th>\n",
       "      <td>amount below 1000</td>\n",
       "      <td>370782</td>\n",
       "      <td>paid</td>\n",
       "      <td>0</td>\n",
       "      <td>10</td>\n",
       "      <td>2</td>\n",
       "      <td>750</td>\n",
       "    </tr>\n",
       "    <tr>\n",
       "      <th>5</th>\n",
       "      <td>amount below 2500</td>\n",
       "      <td>491283</td>\n",
       "      <td>paid</td>\n",
       "      <td>0</td>\n",
       "      <td>183</td>\n",
       "      <td>5</td>\n",
       "      <td>2250</td>\n",
       "    </tr>\n",
       "    <tr>\n",
       "      <th>6</th>\n",
       "      <td>amount below 1000</td>\n",
       "      <td>548234</td>\n",
       "      <td>paid</td>\n",
       "      <td>0</td>\n",
       "      <td>227</td>\n",
       "      <td>2</td>\n",
       "      <td>750</td>\n",
       "    </tr>\n",
       "    <tr>\n",
       "      <th>7</th>\n",
       "      <td>amount below 500</td>\n",
       "      <td>415231</td>\n",
       "      <td>refunded</td>\n",
       "      <td>1</td>\n",
       "      <td>1060</td>\n",
       "      <td>1</td>\n",
       "      <td>250</td>\n",
       "    </tr>\n",
       "    <tr>\n",
       "      <th>8</th>\n",
       "      <td>amount below 500</td>\n",
       "      <td>421316</td>\n",
       "      <td>paid</td>\n",
       "      <td>0</td>\n",
       "      <td>212</td>\n",
       "      <td>1</td>\n",
       "      <td>250</td>\n",
       "    </tr>\n",
       "    <tr>\n",
       "      <th>9</th>\n",
       "      <td>amount below 500</td>\n",
       "      <td>477291</td>\n",
       "      <td>refunded</td>\n",
       "      <td>1</td>\n",
       "      <td>531</td>\n",
       "      <td>1</td>\n",
       "      <td>250</td>\n",
       "    </tr>\n",
       "    <tr>\n",
       "      <th>10</th>\n",
       "      <td>amount below 500</td>\n",
       "      <td>477291</td>\n",
       "      <td>refunded</td>\n",
       "      <td>1</td>\n",
       "      <td>531</td>\n",
       "      <td>1</td>\n",
       "      <td>250</td>\n",
       "    </tr>\n",
       "    <tr>\n",
       "      <th>11</th>\n",
       "      <td>amount below 1500</td>\n",
       "      <td>413406</td>\n",
       "      <td>paid</td>\n",
       "      <td>0</td>\n",
       "      <td>45</td>\n",
       "      <td>3</td>\n",
       "      <td>1250</td>\n",
       "    </tr>\n",
       "    <tr>\n",
       "      <th>12</th>\n",
       "      <td>amount below 1000</td>\n",
       "      <td>528843</td>\n",
       "      <td>paid</td>\n",
       "      <td>0</td>\n",
       "      <td>282</td>\n",
       "      <td>2</td>\n",
       "      <td>750</td>\n",
       "    </tr>\n",
       "    <tr>\n",
       "      <th>13</th>\n",
       "      <td>amount below 1000</td>\n",
       "      <td>416916</td>\n",
       "      <td>refunded</td>\n",
       "      <td>1</td>\n",
       "      <td>73</td>\n",
       "      <td>2</td>\n",
       "      <td>750</td>\n",
       "    </tr>\n",
       "    <tr>\n",
       "      <th>14</th>\n",
       "      <td>amount below 1000</td>\n",
       "      <td>416916</td>\n",
       "      <td>refunded</td>\n",
       "      <td>1</td>\n",
       "      <td>73</td>\n",
       "      <td>2</td>\n",
       "      <td>750</td>\n",
       "    </tr>\n",
       "    <tr>\n",
       "      <th>15</th>\n",
       "      <td>amount below 500</td>\n",
       "      <td>557907</td>\n",
       "      <td>paid</td>\n",
       "      <td>0</td>\n",
       "      <td>269</td>\n",
       "      <td>1</td>\n",
       "      <td>250</td>\n",
       "    </tr>\n",
       "    <tr>\n",
       "      <th>16</th>\n",
       "      <td>amount below 1000</td>\n",
       "      <td>514759</td>\n",
       "      <td>paid</td>\n",
       "      <td>0</td>\n",
       "      <td>1</td>\n",
       "      <td>2</td>\n",
       "      <td>750</td>\n",
       "    </tr>\n",
       "    <tr>\n",
       "      <th>17</th>\n",
       "      <td>amount below 500</td>\n",
       "      <td>557910</td>\n",
       "      <td>paid</td>\n",
       "      <td>0</td>\n",
       "      <td>418</td>\n",
       "      <td>1</td>\n",
       "      <td>250</td>\n",
       "    </tr>\n",
       "    <tr>\n",
       "      <th>18</th>\n",
       "      <td>amount below 500</td>\n",
       "      <td>421316</td>\n",
       "      <td>paid</td>\n",
       "      <td>0</td>\n",
       "      <td>212</td>\n",
       "      <td>1</td>\n",
       "      <td>250</td>\n",
       "    </tr>\n",
       "    <tr>\n",
       "      <th>19</th>\n",
       "      <td>amount below 500</td>\n",
       "      <td>455255</td>\n",
       "      <td>paid</td>\n",
       "      <td>0</td>\n",
       "      <td>194</td>\n",
       "      <td>1</td>\n",
       "      <td>250</td>\n",
       "    </tr>\n",
       "    <tr>\n",
       "      <th>20</th>\n",
       "      <td>amount below 1000</td>\n",
       "      <td>454057</td>\n",
       "      <td>paid</td>\n",
       "      <td>0</td>\n",
       "      <td>54</td>\n",
       "      <td>2</td>\n",
       "      <td>750</td>\n",
       "    </tr>\n",
       "    <tr>\n",
       "      <th>21</th>\n",
       "      <td>amount below 500</td>\n",
       "      <td>491089</td>\n",
       "      <td>paid</td>\n",
       "      <td>0</td>\n",
       "      <td>197</td>\n",
       "      <td>1</td>\n",
       "      <td>250</td>\n",
       "    </tr>\n",
       "    <tr>\n",
       "      <th>22</th>\n",
       "      <td>amount below 1500</td>\n",
       "      <td>529001</td>\n",
       "      <td>antifraud_declined</td>\n",
       "      <td>1</td>\n",
       "      <td>42</td>\n",
       "      <td>3</td>\n",
       "      <td>1250</td>\n",
       "    </tr>\n",
       "    <tr>\n",
       "      <th>23</th>\n",
       "      <td>amount below 1000</td>\n",
       "      <td>455513</td>\n",
       "      <td>paid</td>\n",
       "      <td>0</td>\n",
       "      <td>63</td>\n",
       "      <td>2</td>\n",
       "      <td>750</td>\n",
       "    </tr>\n",
       "    <tr>\n",
       "      <th>24</th>\n",
       "      <td>amount below 1500</td>\n",
       "      <td>473701</td>\n",
       "      <td>antifraud_declined</td>\n",
       "      <td>1</td>\n",
       "      <td>68</td>\n",
       "      <td>3</td>\n",
       "      <td>1250</td>\n",
       "    </tr>\n",
       "    <tr>\n",
       "      <th>25</th>\n",
       "      <td>amount below 1000</td>\n",
       "      <td>405306</td>\n",
       "      <td>paid</td>\n",
       "      <td>0</td>\n",
       "      <td>57</td>\n",
       "      <td>2</td>\n",
       "      <td>750</td>\n",
       "    </tr>\n",
       "    <tr>\n",
       "      <th>26</th>\n",
       "      <td>amount below 1000</td>\n",
       "      <td>520416</td>\n",
       "      <td>paid</td>\n",
       "      <td>0</td>\n",
       "      <td>461</td>\n",
       "      <td>2</td>\n",
       "      <td>750</td>\n",
       "    </tr>\n",
       "    <tr>\n",
       "      <th>27</th>\n",
       "      <td>amount below 1500</td>\n",
       "      <td>415231</td>\n",
       "      <td>paid</td>\n",
       "      <td>0</td>\n",
       "      <td>1060</td>\n",
       "      <td>3</td>\n",
       "      <td>1250</td>\n",
       "    </tr>\n",
       "    <tr>\n",
       "      <th>28</th>\n",
       "      <td>amount below 1000</td>\n",
       "      <td>410181</td>\n",
       "      <td>paid</td>\n",
       "      <td>0</td>\n",
       "      <td>72</td>\n",
       "      <td>2</td>\n",
       "      <td>750</td>\n",
       "    </tr>\n",
       "    <tr>\n",
       "      <th>29</th>\n",
       "      <td>amount below 500</td>\n",
       "      <td>522130</td>\n",
       "      <td>paid</td>\n",
       "      <td>0</td>\n",
       "      <td>17</td>\n",
       "      <td>1</td>\n",
       "      <td>250</td>\n",
       "    </tr>\n",
       "    <tr>\n",
       "      <th>...</th>\n",
       "      <td>...</td>\n",
       "      <td>...</td>\n",
       "      <td>...</td>\n",
       "      <td>...</td>\n",
       "      <td>...</td>\n",
       "      <td>...</td>\n",
       "      <td>...</td>\n",
       "    </tr>\n",
       "    <tr>\n",
       "      <th>11092</th>\n",
       "      <td>amount below 1000</td>\n",
       "      <td>477213</td>\n",
       "      <td>charged_back</td>\n",
       "      <td>1</td>\n",
       "      <td>370</td>\n",
       "      <td>2</td>\n",
       "      <td>750</td>\n",
       "    </tr>\n",
       "    <tr>\n",
       "      <th>11093</th>\n",
       "      <td>amount below 1000</td>\n",
       "      <td>477213</td>\n",
       "      <td>charged_back</td>\n",
       "      <td>1</td>\n",
       "      <td>370</td>\n",
       "      <td>2</td>\n",
       "      <td>750</td>\n",
       "    </tr>\n",
       "    <tr>\n",
       "      <th>11094</th>\n",
       "      <td>amount below 1500</td>\n",
       "      <td>491284</td>\n",
       "      <td>charged_back</td>\n",
       "      <td>1</td>\n",
       "      <td>156</td>\n",
       "      <td>3</td>\n",
       "      <td>1250</td>\n",
       "    </tr>\n",
       "    <tr>\n",
       "      <th>11095</th>\n",
       "      <td>amount below 500</td>\n",
       "      <td>547146</td>\n",
       "      <td>charged_back</td>\n",
       "      <td>1</td>\n",
       "      <td>94</td>\n",
       "      <td>1</td>\n",
       "      <td>250</td>\n",
       "    </tr>\n",
       "    <tr>\n",
       "      <th>11096</th>\n",
       "      <td>amount below 1000</td>\n",
       "      <td>477291</td>\n",
       "      <td>charged_back</td>\n",
       "      <td>1</td>\n",
       "      <td>531</td>\n",
       "      <td>2</td>\n",
       "      <td>750</td>\n",
       "    </tr>\n",
       "    <tr>\n",
       "      <th>11097</th>\n",
       "      <td>amount below 5000</td>\n",
       "      <td>491284</td>\n",
       "      <td>charged_back</td>\n",
       "      <td>1</td>\n",
       "      <td>156</td>\n",
       "      <td>10</td>\n",
       "      <td>4750</td>\n",
       "    </tr>\n",
       "    <tr>\n",
       "      <th>11098</th>\n",
       "      <td>amount below 500</td>\n",
       "      <td>477210</td>\n",
       "      <td>charged_back</td>\n",
       "      <td>1</td>\n",
       "      <td>29</td>\n",
       "      <td>1</td>\n",
       "      <td>250</td>\n",
       "    </tr>\n",
       "    <tr>\n",
       "      <th>11099</th>\n",
       "      <td>amount below 4000</td>\n",
       "      <td>491284</td>\n",
       "      <td>charged_back</td>\n",
       "      <td>1</td>\n",
       "      <td>156</td>\n",
       "      <td>8</td>\n",
       "      <td>3750</td>\n",
       "    </tr>\n",
       "    <tr>\n",
       "      <th>11100</th>\n",
       "      <td>amount below 500</td>\n",
       "      <td>477210</td>\n",
       "      <td>charged_back</td>\n",
       "      <td>1</td>\n",
       "      <td>29</td>\n",
       "      <td>1</td>\n",
       "      <td>250</td>\n",
       "    </tr>\n",
       "    <tr>\n",
       "      <th>11101</th>\n",
       "      <td>amount below 500</td>\n",
       "      <td>477291</td>\n",
       "      <td>charged_back</td>\n",
       "      <td>1</td>\n",
       "      <td>531</td>\n",
       "      <td>1</td>\n",
       "      <td>250</td>\n",
       "    </tr>\n",
       "    <tr>\n",
       "      <th>11102</th>\n",
       "      <td>amount below 1000</td>\n",
       "      <td>491871</td>\n",
       "      <td>charged_back</td>\n",
       "      <td>1</td>\n",
       "      <td>12</td>\n",
       "      <td>2</td>\n",
       "      <td>750</td>\n",
       "    </tr>\n",
       "    <tr>\n",
       "      <th>11103</th>\n",
       "      <td>amount below 1000</td>\n",
       "      <td>410181</td>\n",
       "      <td>charged_back</td>\n",
       "      <td>1</td>\n",
       "      <td>72</td>\n",
       "      <td>2</td>\n",
       "      <td>750</td>\n",
       "    </tr>\n",
       "    <tr>\n",
       "      <th>11104</th>\n",
       "      <td>amount below 1000</td>\n",
       "      <td>455545</td>\n",
       "      <td>charged_back</td>\n",
       "      <td>1</td>\n",
       "      <td>45</td>\n",
       "      <td>2</td>\n",
       "      <td>750</td>\n",
       "    </tr>\n",
       "    <tr>\n",
       "      <th>11105</th>\n",
       "      <td>amount below 1500</td>\n",
       "      <td>493161</td>\n",
       "      <td>charged_back</td>\n",
       "      <td>1</td>\n",
       "      <td>203</td>\n",
       "      <td>3</td>\n",
       "      <td>1250</td>\n",
       "    </tr>\n",
       "    <tr>\n",
       "      <th>11106</th>\n",
       "      <td>amount below 1000</td>\n",
       "      <td>477291</td>\n",
       "      <td>charged_back</td>\n",
       "      <td>1</td>\n",
       "      <td>531</td>\n",
       "      <td>2</td>\n",
       "      <td>750</td>\n",
       "    </tr>\n",
       "    <tr>\n",
       "      <th>11107</th>\n",
       "      <td>amount below 1500</td>\n",
       "      <td>454057</td>\n",
       "      <td>charged_back</td>\n",
       "      <td>1</td>\n",
       "      <td>54</td>\n",
       "      <td>3</td>\n",
       "      <td>1250</td>\n",
       "    </tr>\n",
       "    <tr>\n",
       "      <th>11108</th>\n",
       "      <td>amount below 1000</td>\n",
       "      <td>455500</td>\n",
       "      <td>charged_back</td>\n",
       "      <td>1</td>\n",
       "      <td>33</td>\n",
       "      <td>2</td>\n",
       "      <td>750</td>\n",
       "    </tr>\n",
       "    <tr>\n",
       "      <th>11109</th>\n",
       "      <td>amount below 1000</td>\n",
       "      <td>455500</td>\n",
       "      <td>charged_back</td>\n",
       "      <td>1</td>\n",
       "      <td>33</td>\n",
       "      <td>2</td>\n",
       "      <td>750</td>\n",
       "    </tr>\n",
       "    <tr>\n",
       "      <th>11110</th>\n",
       "      <td>amount below 500</td>\n",
       "      <td>415231</td>\n",
       "      <td>charged_back</td>\n",
       "      <td>1</td>\n",
       "      <td>1060</td>\n",
       "      <td>1</td>\n",
       "      <td>250</td>\n",
       "    </tr>\n",
       "    <tr>\n",
       "      <th>11111</th>\n",
       "      <td>amount below 1000</td>\n",
       "      <td>493161</td>\n",
       "      <td>charged_back</td>\n",
       "      <td>1</td>\n",
       "      <td>203</td>\n",
       "      <td>2</td>\n",
       "      <td>750</td>\n",
       "    </tr>\n",
       "    <tr>\n",
       "      <th>11112</th>\n",
       "      <td>amount below 1000</td>\n",
       "      <td>493161</td>\n",
       "      <td>charged_back</td>\n",
       "      <td>1</td>\n",
       "      <td>203</td>\n",
       "      <td>2</td>\n",
       "      <td>750</td>\n",
       "    </tr>\n",
       "    <tr>\n",
       "      <th>11113</th>\n",
       "      <td>amount below 1500</td>\n",
       "      <td>491283</td>\n",
       "      <td>charged_back</td>\n",
       "      <td>1</td>\n",
       "      <td>183</td>\n",
       "      <td>3</td>\n",
       "      <td>1250</td>\n",
       "    </tr>\n",
       "    <tr>\n",
       "      <th>11114</th>\n",
       "      <td>amount below 1000</td>\n",
       "      <td>549949</td>\n",
       "      <td>charged_back</td>\n",
       "      <td>1</td>\n",
       "      <td>91</td>\n",
       "      <td>2</td>\n",
       "      <td>750</td>\n",
       "    </tr>\n",
       "    <tr>\n",
       "      <th>11115</th>\n",
       "      <td>amount below 500</td>\n",
       "      <td>554629</td>\n",
       "      <td>charged_back</td>\n",
       "      <td>1</td>\n",
       "      <td>76</td>\n",
       "      <td>1</td>\n",
       "      <td>250</td>\n",
       "    </tr>\n",
       "    <tr>\n",
       "      <th>11116</th>\n",
       "      <td>amount below 1000</td>\n",
       "      <td>493161</td>\n",
       "      <td>charged_back</td>\n",
       "      <td>1</td>\n",
       "      <td>203</td>\n",
       "      <td>2</td>\n",
       "      <td>750</td>\n",
       "    </tr>\n",
       "    <tr>\n",
       "      <th>11117</th>\n",
       "      <td>amount below 1000</td>\n",
       "      <td>493161</td>\n",
       "      <td>charged_back</td>\n",
       "      <td>1</td>\n",
       "      <td>203</td>\n",
       "      <td>2</td>\n",
       "      <td>750</td>\n",
       "    </tr>\n",
       "    <tr>\n",
       "      <th>11118</th>\n",
       "      <td>amount below 1000</td>\n",
       "      <td>415231</td>\n",
       "      <td>charged_back</td>\n",
       "      <td>1</td>\n",
       "      <td>1060</td>\n",
       "      <td>2</td>\n",
       "      <td>750</td>\n",
       "    </tr>\n",
       "    <tr>\n",
       "      <th>11119</th>\n",
       "      <td>amount below 500</td>\n",
       "      <td>493161</td>\n",
       "      <td>charged_back</td>\n",
       "      <td>1</td>\n",
       "      <td>203</td>\n",
       "      <td>1</td>\n",
       "      <td>250</td>\n",
       "    </tr>\n",
       "    <tr>\n",
       "      <th>11120</th>\n",
       "      <td>amount below 500</td>\n",
       "      <td>557910</td>\n",
       "      <td>charged_back</td>\n",
       "      <td>1</td>\n",
       "      <td>418</td>\n",
       "      <td>1</td>\n",
       "      <td>250</td>\n",
       "    </tr>\n",
       "    <tr>\n",
       "      <th>11121</th>\n",
       "      <td>amount below 1000</td>\n",
       "      <td>477291</td>\n",
       "      <td>charged_back</td>\n",
       "      <td>1</td>\n",
       "      <td>531</td>\n",
       "      <td>2</td>\n",
       "      <td>750</td>\n",
       "    </tr>\n",
       "  </tbody>\n",
       "</table>\n",
       "<p>11122 rows × 7 columns</p>\n",
       "</div>"
      ],
      "text/plain": [
       "                  amount     bin              status  fraud  BankFrequency  \\\n",
       "0      amount below 2000  491283                paid      0            183   \n",
       "1       amount below 500  455255                paid      0            194   \n",
       "2      amount below 1500  407458                paid      0              6   \n",
       "3       amount below 500  455511                paid      0             64   \n",
       "4      amount below 1000  370782                paid      0             10   \n",
       "5      amount below 2500  491283                paid      0            183   \n",
       "6      amount below 1000  548234                paid      0            227   \n",
       "7       amount below 500  415231            refunded      1           1060   \n",
       "8       amount below 500  421316                paid      0            212   \n",
       "9       amount below 500  477291            refunded      1            531   \n",
       "10      amount below 500  477291            refunded      1            531   \n",
       "11     amount below 1500  413406                paid      0             45   \n",
       "12     amount below 1000  528843                paid      0            282   \n",
       "13     amount below 1000  416916            refunded      1             73   \n",
       "14     amount below 1000  416916            refunded      1             73   \n",
       "15      amount below 500  557907                paid      0            269   \n",
       "16     amount below 1000  514759                paid      0              1   \n",
       "17      amount below 500  557910                paid      0            418   \n",
       "18      amount below 500  421316                paid      0            212   \n",
       "19      amount below 500  455255                paid      0            194   \n",
       "20     amount below 1000  454057                paid      0             54   \n",
       "21      amount below 500  491089                paid      0            197   \n",
       "22     amount below 1500  529001  antifraud_declined      1             42   \n",
       "23     amount below 1000  455513                paid      0             63   \n",
       "24     amount below 1500  473701  antifraud_declined      1             68   \n",
       "25     amount below 1000  405306                paid      0             57   \n",
       "26     amount below 1000  520416                paid      0            461   \n",
       "27     amount below 1500  415231                paid      0           1060   \n",
       "28     amount below 1000  410181                paid      0             72   \n",
       "29      amount below 500  522130                paid      0             17   \n",
       "...                  ...     ...                 ...    ...            ...   \n",
       "11092  amount below 1000  477213        charged_back      1            370   \n",
       "11093  amount below 1000  477213        charged_back      1            370   \n",
       "11094  amount below 1500  491284        charged_back      1            156   \n",
       "11095   amount below 500  547146        charged_back      1             94   \n",
       "11096  amount below 1000  477291        charged_back      1            531   \n",
       "11097  amount below 5000  491284        charged_back      1            156   \n",
       "11098   amount below 500  477210        charged_back      1             29   \n",
       "11099  amount below 4000  491284        charged_back      1            156   \n",
       "11100   amount below 500  477210        charged_back      1             29   \n",
       "11101   amount below 500  477291        charged_back      1            531   \n",
       "11102  amount below 1000  491871        charged_back      1             12   \n",
       "11103  amount below 1000  410181        charged_back      1             72   \n",
       "11104  amount below 1000  455545        charged_back      1             45   \n",
       "11105  amount below 1500  493161        charged_back      1            203   \n",
       "11106  amount below 1000  477291        charged_back      1            531   \n",
       "11107  amount below 1500  454057        charged_back      1             54   \n",
       "11108  amount below 1000  455500        charged_back      1             33   \n",
       "11109  amount below 1000  455500        charged_back      1             33   \n",
       "11110   amount below 500  415231        charged_back      1           1060   \n",
       "11111  amount below 1000  493161        charged_back      1            203   \n",
       "11112  amount below 1000  493161        charged_back      1            203   \n",
       "11113  amount below 1500  491283        charged_back      1            183   \n",
       "11114  amount below 1000  549949        charged_back      1             91   \n",
       "11115   amount below 500  554629        charged_back      1             76   \n",
       "11116  amount below 1000  493161        charged_back      1            203   \n",
       "11117  amount below 1000  493161        charged_back      1            203   \n",
       "11118  amount below 1000  415231        charged_back      1           1060   \n",
       "11119   amount below 500  493161        charged_back      1            203   \n",
       "11120   amount below 500  557910        charged_back      1            418   \n",
       "11121  amount below 1000  477291        charged_back      1            531   \n",
       "\n",
       "       AmountCategory  AmountMark  \n",
       "0                   4        1750  \n",
       "1                   1         250  \n",
       "2                   3        1250  \n",
       "3                   1         250  \n",
       "4                   2         750  \n",
       "5                   5        2250  \n",
       "6                   2         750  \n",
       "7                   1         250  \n",
       "8                   1         250  \n",
       "9                   1         250  \n",
       "10                  1         250  \n",
       "11                  3        1250  \n",
       "12                  2         750  \n",
       "13                  2         750  \n",
       "14                  2         750  \n",
       "15                  1         250  \n",
       "16                  2         750  \n",
       "17                  1         250  \n",
       "18                  1         250  \n",
       "19                  1         250  \n",
       "20                  2         750  \n",
       "21                  1         250  \n",
       "22                  3        1250  \n",
       "23                  2         750  \n",
       "24                  3        1250  \n",
       "25                  2         750  \n",
       "26                  2         750  \n",
       "27                  3        1250  \n",
       "28                  2         750  \n",
       "29                  1         250  \n",
       "...               ...         ...  \n",
       "11092               2         750  \n",
       "11093               2         750  \n",
       "11094               3        1250  \n",
       "11095               1         250  \n",
       "11096               2         750  \n",
       "11097              10        4750  \n",
       "11098               1         250  \n",
       "11099               8        3750  \n",
       "11100               1         250  \n",
       "11101               1         250  \n",
       "11102               2         750  \n",
       "11103               2         750  \n",
       "11104               2         750  \n",
       "11105               3        1250  \n",
       "11106               2         750  \n",
       "11107               3        1250  \n",
       "11108               2         750  \n",
       "11109               2         750  \n",
       "11110               1         250  \n",
       "11111               2         750  \n",
       "11112               2         750  \n",
       "11113               3        1250  \n",
       "11114               2         750  \n",
       "11115               1         250  \n",
       "11116               2         750  \n",
       "11117               2         750  \n",
       "11118               2         750  \n",
       "11119               1         250  \n",
       "11120               1         250  \n",
       "11121               2         750  \n",
       "\n",
       "[11122 rows x 7 columns]"
      ]
     },
     "execution_count": 51,
     "metadata": {},
     "output_type": "execute_result"
    }
   ],
   "source": [
    "df_data2"
   ]
  },
  {
   "cell_type": "markdown",
   "metadata": {},
   "source": [
    "###Una exploración sencilla para ver si va cambiando el porcentaje de operaciones fraudulentas conforme observemos la densidad de los datos con respecto a las frecuencias de los bancos"
   ]
  },
  {
   "cell_type": "code",
   "execution_count": 52,
   "metadata": {
    "collapsed": false
   },
   "outputs": [
    {
     "name": "stdout",
     "output_type": "stream",
     "text": [
      "Para el total de operaciones, el porcentaje de casos fraudulentos es: 15.000000 \n"
     ]
    },
    {
     "data": {
      "text/plain": [
       "array([[<matplotlib.axes._subplots.AxesSubplot object at 0x108f2e390>,\n",
       "        <matplotlib.axes._subplots.AxesSubplot object at 0x109018710>],\n",
       "       [<matplotlib.axes._subplots.AxesSubplot object at 0x108cd0390>,\n",
       "        <matplotlib.axes._subplots.AxesSubplot object at 0x1090d7410>]], dtype=object)"
      ]
     },
     "execution_count": 52,
     "metadata": {},
     "output_type": "execute_result"
    },
    {
     "data": {
      "image/png": "[encoded data removed]",
      "text/plain": [
       "<matplotlib.figure.Figure at 0x108a6d310>"
      ]
     },
     "metadata": {},
     "output_type": "display_data"
    }
   ],
   "source": [
    "print(\"Para el total de operaciones, el porcentaje de casos fraudulentos es: %f \" %float(100*df_data2.fraud.sum()/len(df_data2.fraud)))\n",
    "df_data2.hist()"
   ]
  },
  {
   "cell_type": "code",
   "execution_count": 53,
   "metadata": {
    "collapsed": false
   },
   "outputs": [
    {
     "name": "stdout",
     "output_type": "stream",
     "text": [
      "Para las operaciones con Bancos que tienen menos de 1000 transacciones, el porcentaje de casos fraudulentos es: 16.000000 \n"
     ]
    },
    {
     "data": {
      "text/plain": [
       "array([[<matplotlib.axes._subplots.AxesSubplot object at 0x1092b9450>,\n",
       "        <matplotlib.axes._subplots.AxesSubplot object at 0x10951a050>],\n",
       "       [<matplotlib.axes._subplots.AxesSubplot object at 0x10959c510>,\n",
       "        <matplotlib.axes._subplots.AxesSubplot object at 0x109600710>]], dtype=object)"
      ]
     },
     "execution_count": 53,
     "metadata": {},
     "output_type": "execute_result"
    },
    {
     "data": {
      "image/png": "[encoded data removed]",
      "text/plain": [
       "<matplotlib.figure.Figure at 0x108a42c50>"
      ]
     },
     "metadata": {},
     "output_type": "display_data"
    }
   ],
   "source": [
    "print(\"Para las operaciones con Bancos que tienen menos de 1000 transacciones, el porcentaje de casos fraudulentos es: %f \" %float(100*df_data2.fraud[df_data2.BankFrequency<1000].sum()/len(df_data2[df_data2.BankFrequency<1000].fraud)))\n",
    "\n",
    "df_data2[df_data2.BankFrequency<1000].hist()"
   ]
  },
  {
   "cell_type": "code",
   "execution_count": 54,
   "metadata": {
    "collapsed": false
   },
   "outputs": [
    {
     "name": "stdout",
     "output_type": "stream",
     "text": [
      "Para las operaciones con Bancos que tienen menos de 500 transacciones, el porcentaje de casos fraudulentos es: 16.000000 \n"
     ]
    },
    {
     "data": {
      "text/plain": [
       "array([[<matplotlib.axes._subplots.AxesSubplot object at 0x10a256850>,\n",
       "        <matplotlib.axes._subplots.AxesSubplot object at 0x10a35f090>],\n",
       "       [<matplotlib.axes._subplots.AxesSubplot object at 0x10a3df550>,\n",
       "        <matplotlib.axes._subplots.AxesSubplot object at 0x10a444750>]], dtype=object)"
      ]
     },
     "execution_count": 54,
     "metadata": {},
     "output_type": "execute_result"
    },
    {
     "data": {
      "image/png": "[encoded data removed]",
      "text/plain": [
       "<matplotlib.figure.Figure at 0x1092d2b90>"
      ]
     },
     "metadata": {},
     "output_type": "display_data"
    }
   ],
   "source": [
    "print(\"Para las operaciones con Bancos que tienen menos de 500 transacciones, el porcentaje de casos fraudulentos es: %f \" %float(100*df_data2.fraud[df_data2.BankFrequency<500].sum()/len(df_data2[df_data2.BankFrequency<500].fraud)))\n",
    "\n",
    "\n",
    "df_data2[df_data2.BankFrequency<500].hist()"
   ]
  },
  {
   "cell_type": "code",
   "execution_count": 55,
   "metadata": {
    "collapsed": false
   },
   "outputs": [
    {
     "name": "stdout",
     "output_type": "stream",
     "text": [
      "Para las operaciones con Bancos que tienen menos de 300 transacciones, el porcentaje de casos fraudulentos es: 16.000000 \n"
     ]
    },
    {
     "data": {
      "text/plain": [
       "array([[<matplotlib.axes._subplots.AxesSubplot object at 0x10a784c90>,\n",
       "        <matplotlib.axes._subplots.AxesSubplot object at 0x10a7f9c90>],\n",
       "       [<matplotlib.axes._subplots.AxesSubplot object at 0x10a9f4190>,\n",
       "        <matplotlib.axes._subplots.AxesSubplot object at 0x10aa4be90>]], dtype=object)"
      ]
     },
     "execution_count": 55,
     "metadata": {},
     "output_type": "execute_result"
    },
    {
     "data": {
      "image/png": "[encoded data removed]",
      "text/plain": [
       "<matplotlib.figure.Figure at 0x10a2223d0>"
      ]
     },
     "metadata": {},
     "output_type": "display_data"
    }
   ],
   "source": [
    "print(\"Para las operaciones con Bancos que tienen menos de 300 transacciones, el porcentaje de casos fraudulentos es: %f \" %float(100*df_data2.fraud[df_data2.BankFrequency<300].sum()/len(df_data2[df_data2.BankFrequency<300].fraud)))\n",
    "\n",
    "\n",
    "df_data2[df_data2.BankFrequency<300].hist()"
   ]
  },
  {
   "cell_type": "markdown",
   "metadata": {},
   "source": [
    "###De lo anterior, a simple vista no se nota un movimiento muy evidente al quitar los casos más alejados de la parte más densa de los mismos."
   ]
  },
  {
   "cell_type": "markdown",
   "metadata": {},
   "source": [
    "###Exportamos nuestra base con los campos generados en .csv para, con ésta, generar modelos que intenten explicar los datos."
   ]
  },
  {
   "cell_type": "code",
   "execution_count": 58,
   "metadata": {
    "collapsed": false
   },
   "outputs": [
    {
     "name": "stderr",
     "output_type": "stream",
     "text": [
      "/Users/jalfredomb/.graphlab/anaconda/lib/python2.7/site-packages/IPython/kernel/__main__.py:4: SettingWithCopyWarning: \n",
      "A value is trying to be set on a copy of a slice from a DataFrame\n",
      "\n",
      "See the the caveats in the documentation: http://pandas.pydata.org/pandas-docs/stable/indexing.html#indexing-view-versus-copy\n"
     ]
    }
   ],
   "source": [
    "df_data2['AmountUniform']=0\n",
    "random.seed(0)\n",
    "for registro in range(0,len(df_data2.AmountCategory)):\n",
    "    df_data2.AmountUniform[registro]=random.randint(500*(df_data2.AmountCategory[registro]-1),500*df_data2.AmountCategory[registro])"
   ]
  },
  {
   "cell_type": "code",
   "execution_count": 59,
   "metadata": {
    "collapsed": false
   },
   "outputs": [
    {
     "data": {
      "text/html": [
       "<div>\n",
       "<table border=\"1\" class=\"dataframe\">\n",
       "  <thead>\n",
       "    <tr style=\"text-align: right;\">\n",
       "      <th></th>\n",
       "      <th>amount</th>\n",
       "      <th>bin</th>\n",
       "      <th>status</th>\n",
       "      <th>fraud</th>\n",
       "      <th>BankFrequency</th>\n",
       "      <th>AmountCategory</th>\n",
       "      <th>AmountMark</th>\n",
       "      <th>AmountUniform</th>\n",
       "    </tr>\n",
       "  </thead>\n",
       "  <tbody>\n",
       "    <tr>\n",
       "      <th>0</th>\n",
       "      <td>amount below 2000</td>\n",
       "      <td>491283</td>\n",
       "      <td>paid</td>\n",
       "      <td>0</td>\n",
       "      <td>183</td>\n",
       "      <td>4</td>\n",
       "      <td>1750</td>\n",
       "      <td>1923</td>\n",
       "    </tr>\n",
       "    <tr>\n",
       "      <th>1</th>\n",
       "      <td>amount below 500</td>\n",
       "      <td>455255</td>\n",
       "      <td>paid</td>\n",
       "      <td>0</td>\n",
       "      <td>194</td>\n",
       "      <td>1</td>\n",
       "      <td>250</td>\n",
       "      <td>379</td>\n",
       "    </tr>\n",
       "    <tr>\n",
       "      <th>2</th>\n",
       "      <td>amount below 1500</td>\n",
       "      <td>407458</td>\n",
       "      <td>paid</td>\n",
       "      <td>0</td>\n",
       "      <td>6</td>\n",
       "      <td>3</td>\n",
       "      <td>1250</td>\n",
       "      <td>1210</td>\n",
       "    </tr>\n",
       "    <tr>\n",
       "      <th>3</th>\n",
       "      <td>amount below 500</td>\n",
       "      <td>455511</td>\n",
       "      <td>paid</td>\n",
       "      <td>0</td>\n",
       "      <td>64</td>\n",
       "      <td>1</td>\n",
       "      <td>250</td>\n",
       "      <td>129</td>\n",
       "    </tr>\n",
       "    <tr>\n",
       "      <th>4</th>\n",
       "      <td>amount below 1000</td>\n",
       "      <td>370782</td>\n",
       "      <td>paid</td>\n",
       "      <td>0</td>\n",
       "      <td>10</td>\n",
       "      <td>2</td>\n",
       "      <td>750</td>\n",
       "      <td>756</td>\n",
       "    </tr>\n",
       "  </tbody>\n",
       "</table>\n",
       "</div>"
      ],
      "text/plain": [
       "              amount     bin status  fraud  BankFrequency  AmountCategory  \\\n",
       "0  amount below 2000  491283   paid      0            183               4   \n",
       "1   amount below 500  455255   paid      0            194               1   \n",
       "2  amount below 1500  407458   paid      0              6               3   \n",
       "3   amount below 500  455511   paid      0             64               1   \n",
       "4  amount below 1000  370782   paid      0             10               2   \n",
       "\n",
       "   AmountMark  AmountUniform  \n",
       "0        1750           1923  \n",
       "1         250            379  \n",
       "2        1250           1210  \n",
       "3         250            129  \n",
       "4         750            756  "
      ]
     },
     "execution_count": 59,
     "metadata": {},
     "output_type": "execute_result"
    }
   ],
   "source": [
    "df_data2.head(5)"
   ]
  },
  {
   "cell_type": "code",
   "execution_count": 60,
   "metadata": {
    "collapsed": true
   },
   "outputs": [],
   "source": [
    "df_data2.to_csv('df_data2.csv', index=False)"
   ]
  }
 ],
 "metadata": {
  "kernelspec": {
   "display_name": "Python 2",
   "language": "python",
   "name": "python2"
  },
  "language_info": {
   "codemirror_mode": {
    "name": "ipython",
    "version": 2
   },
   "file_extension": ".py",
   "mimetype": "text/x-python",
   "name": "python",
   "nbconvert_exporter": "python",
   "pygments_lexer": "ipython2",
   "version": "2.7.10"
  }
 },
 "nbformat": 4,
 "nbformat_minor": 0
}
